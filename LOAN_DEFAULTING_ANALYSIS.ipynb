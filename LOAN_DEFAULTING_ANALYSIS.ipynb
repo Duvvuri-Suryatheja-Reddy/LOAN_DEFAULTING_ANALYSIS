{
 "cells": [
  {
   "cell_type": "markdown",
   "metadata": {},
   "source": [
    "### IMPORTING LIBRARIES FOR ANALYSIS"
   ]
  },
  {
   "cell_type": "code",
   "execution_count": 116,
   "metadata": {},
   "outputs": [],
   "source": [
    "import numpy as np\n",
    "import pandas as pd\n",
    "import matplotlib.pyplot as plt\n",
    "import seaborn as sns"
   ]
  },
  {
   "cell_type": "markdown",
   "metadata": {},
   "source": [
    "### READING APPLICATION DATA "
   ]
  },
  {
   "cell_type": "code",
   "execution_count": 117,
   "metadata": {},
   "outputs": [
    {
     "data": {
      "text/html": [
       "<div>\n",
       "<style scoped>\n",
       "    .dataframe tbody tr th:only-of-type {\n",
       "        vertical-align: middle;\n",
       "    }\n",
       "\n",
       "    .dataframe tbody tr th {\n",
       "        vertical-align: top;\n",
       "    }\n",
       "\n",
       "    .dataframe thead th {\n",
       "        text-align: right;\n",
       "    }\n",
       "</style>\n",
       "<table border=\"1\" class=\"dataframe\">\n",
       "  <thead>\n",
       "    <tr style=\"text-align: right;\">\n",
       "      <th></th>\n",
       "      <th>SK_ID_CURR</th>\n",
       "      <th>TARGET</th>\n",
       "      <th>NAME_CONTRACT_TYPE</th>\n",
       "      <th>CODE_GENDER</th>\n",
       "      <th>FLAG_OWN_CAR</th>\n",
       "      <th>FLAG_OWN_REALTY</th>\n",
       "      <th>CNT_CHILDREN</th>\n",
       "      <th>AMT_INCOME_TOTAL</th>\n",
       "      <th>AMT_CREDIT</th>\n",
       "      <th>AMT_ANNUITY</th>\n",
       "      <th>...</th>\n",
       "      <th>FLAG_DOCUMENT_18</th>\n",
       "      <th>FLAG_DOCUMENT_19</th>\n",
       "      <th>FLAG_DOCUMENT_20</th>\n",
       "      <th>FLAG_DOCUMENT_21</th>\n",
       "      <th>AMT_REQ_CREDIT_BUREAU_HOUR</th>\n",
       "      <th>AMT_REQ_CREDIT_BUREAU_DAY</th>\n",
       "      <th>AMT_REQ_CREDIT_BUREAU_WEEK</th>\n",
       "      <th>AMT_REQ_CREDIT_BUREAU_MON</th>\n",
       "      <th>AMT_REQ_CREDIT_BUREAU_QRT</th>\n",
       "      <th>AMT_REQ_CREDIT_BUREAU_YEAR</th>\n",
       "    </tr>\n",
       "  </thead>\n",
       "  <tbody>\n",
       "    <tr>\n",
       "      <th>0</th>\n",
       "      <td>100002</td>\n",
       "      <td>1</td>\n",
       "      <td>Cash loans</td>\n",
       "      <td>M</td>\n",
       "      <td>N</td>\n",
       "      <td>Y</td>\n",
       "      <td>0</td>\n",
       "      <td>202500.0</td>\n",
       "      <td>406597.5</td>\n",
       "      <td>24700.5</td>\n",
       "      <td>...</td>\n",
       "      <td>0</td>\n",
       "      <td>0</td>\n",
       "      <td>0</td>\n",
       "      <td>0</td>\n",
       "      <td>0.0</td>\n",
       "      <td>0.0</td>\n",
       "      <td>0.0</td>\n",
       "      <td>0.0</td>\n",
       "      <td>0.0</td>\n",
       "      <td>1.0</td>\n",
       "    </tr>\n",
       "    <tr>\n",
       "      <th>1</th>\n",
       "      <td>100003</td>\n",
       "      <td>0</td>\n",
       "      <td>Cash loans</td>\n",
       "      <td>F</td>\n",
       "      <td>N</td>\n",
       "      <td>N</td>\n",
       "      <td>0</td>\n",
       "      <td>270000.0</td>\n",
       "      <td>1293502.5</td>\n",
       "      <td>35698.5</td>\n",
       "      <td>...</td>\n",
       "      <td>0</td>\n",
       "      <td>0</td>\n",
       "      <td>0</td>\n",
       "      <td>0</td>\n",
       "      <td>0.0</td>\n",
       "      <td>0.0</td>\n",
       "      <td>0.0</td>\n",
       "      <td>0.0</td>\n",
       "      <td>0.0</td>\n",
       "      <td>0.0</td>\n",
       "    </tr>\n",
       "    <tr>\n",
       "      <th>2</th>\n",
       "      <td>100004</td>\n",
       "      <td>0</td>\n",
       "      <td>Revolving loans</td>\n",
       "      <td>M</td>\n",
       "      <td>Y</td>\n",
       "      <td>Y</td>\n",
       "      <td>0</td>\n",
       "      <td>67500.0</td>\n",
       "      <td>135000.0</td>\n",
       "      <td>6750.0</td>\n",
       "      <td>...</td>\n",
       "      <td>0</td>\n",
       "      <td>0</td>\n",
       "      <td>0</td>\n",
       "      <td>0</td>\n",
       "      <td>0.0</td>\n",
       "      <td>0.0</td>\n",
       "      <td>0.0</td>\n",
       "      <td>0.0</td>\n",
       "      <td>0.0</td>\n",
       "      <td>0.0</td>\n",
       "    </tr>\n",
       "    <tr>\n",
       "      <th>3</th>\n",
       "      <td>100006</td>\n",
       "      <td>0</td>\n",
       "      <td>Cash loans</td>\n",
       "      <td>F</td>\n",
       "      <td>N</td>\n",
       "      <td>Y</td>\n",
       "      <td>0</td>\n",
       "      <td>135000.0</td>\n",
       "      <td>312682.5</td>\n",
       "      <td>29686.5</td>\n",
       "      <td>...</td>\n",
       "      <td>0</td>\n",
       "      <td>0</td>\n",
       "      <td>0</td>\n",
       "      <td>0</td>\n",
       "      <td>NaN</td>\n",
       "      <td>NaN</td>\n",
       "      <td>NaN</td>\n",
       "      <td>NaN</td>\n",
       "      <td>NaN</td>\n",
       "      <td>NaN</td>\n",
       "    </tr>\n",
       "    <tr>\n",
       "      <th>4</th>\n",
       "      <td>100007</td>\n",
       "      <td>0</td>\n",
       "      <td>Cash loans</td>\n",
       "      <td>M</td>\n",
       "      <td>N</td>\n",
       "      <td>Y</td>\n",
       "      <td>0</td>\n",
       "      <td>121500.0</td>\n",
       "      <td>513000.0</td>\n",
       "      <td>21865.5</td>\n",
       "      <td>...</td>\n",
       "      <td>0</td>\n",
       "      <td>0</td>\n",
       "      <td>0</td>\n",
       "      <td>0</td>\n",
       "      <td>0.0</td>\n",
       "      <td>0.0</td>\n",
       "      <td>0.0</td>\n",
       "      <td>0.0</td>\n",
       "      <td>0.0</td>\n",
       "      <td>0.0</td>\n",
       "    </tr>\n",
       "  </tbody>\n",
       "</table>\n",
       "<p>5 rows × 122 columns</p>\n",
       "</div>"
      ],
      "text/plain": [
       "   SK_ID_CURR  TARGET NAME_CONTRACT_TYPE CODE_GENDER FLAG_OWN_CAR  \\\n",
       "0      100002       1         Cash loans           M            N   \n",
       "1      100003       0         Cash loans           F            N   \n",
       "2      100004       0    Revolving loans           M            Y   \n",
       "3      100006       0         Cash loans           F            N   \n",
       "4      100007       0         Cash loans           M            N   \n",
       "\n",
       "  FLAG_OWN_REALTY  CNT_CHILDREN  AMT_INCOME_TOTAL  AMT_CREDIT  AMT_ANNUITY  \\\n",
       "0               Y             0          202500.0    406597.5      24700.5   \n",
       "1               N             0          270000.0   1293502.5      35698.5   \n",
       "2               Y             0           67500.0    135000.0       6750.0   \n",
       "3               Y             0          135000.0    312682.5      29686.5   \n",
       "4               Y             0          121500.0    513000.0      21865.5   \n",
       "\n",
       "   ...  FLAG_DOCUMENT_18 FLAG_DOCUMENT_19 FLAG_DOCUMENT_20 FLAG_DOCUMENT_21  \\\n",
       "0  ...                 0                0                0                0   \n",
       "1  ...                 0                0                0                0   \n",
       "2  ...                 0                0                0                0   \n",
       "3  ...                 0                0                0                0   \n",
       "4  ...                 0                0                0                0   \n",
       "\n",
       "  AMT_REQ_CREDIT_BUREAU_HOUR AMT_REQ_CREDIT_BUREAU_DAY  \\\n",
       "0                        0.0                       0.0   \n",
       "1                        0.0                       0.0   \n",
       "2                        0.0                       0.0   \n",
       "3                        NaN                       NaN   \n",
       "4                        0.0                       0.0   \n",
       "\n",
       "   AMT_REQ_CREDIT_BUREAU_WEEK  AMT_REQ_CREDIT_BUREAU_MON  \\\n",
       "0                         0.0                        0.0   \n",
       "1                         0.0                        0.0   \n",
       "2                         0.0                        0.0   \n",
       "3                         NaN                        NaN   \n",
       "4                         0.0                        0.0   \n",
       "\n",
       "   AMT_REQ_CREDIT_BUREAU_QRT  AMT_REQ_CREDIT_BUREAU_YEAR  \n",
       "0                        0.0                         1.0  \n",
       "1                        0.0                         0.0  \n",
       "2                        0.0                         0.0  \n",
       "3                        NaN                         NaN  \n",
       "4                        0.0                         0.0  \n",
       "\n",
       "[5 rows x 122 columns]"
      ]
     },
     "execution_count": 117,
     "metadata": {},
     "output_type": "execute_result"
    }
   ],
   "source": [
    "#READING THE APPLICATION DATASET AND STORING THE DATASET IN A DATAFRAME NAMED appdata\n",
    "appdata = pd.read_csv(r'D:\\Upgrad - PG diploma - datascience\\Course 1_Data toolkit\\Case study Loan\\DATA\\application_data.csv')\n",
    "appdata.head()"
   ]
  },
  {
   "cell_type": "markdown",
   "metadata": {},
   "source": [
    "### INSPECTING APPLICATION DATAFRAME"
   ]
  },
  {
   "cell_type": "code",
   "execution_count": 118,
   "metadata": {},
   "outputs": [
    {
     "data": {
      "text/plain": [
       "(307511, 122)"
      ]
     },
     "execution_count": 118,
     "metadata": {},
     "output_type": "execute_result"
    }
   ],
   "source": [
    "# FINDING SHAPE OF DATAFRAME\n",
    "appdata.shape"
   ]
  },
  {
   "cell_type": "code",
   "execution_count": 119,
   "metadata": {},
   "outputs": [
    {
     "data": {
      "text/html": [
       "<div>\n",
       "<style scoped>\n",
       "    .dataframe tbody tr th:only-of-type {\n",
       "        vertical-align: middle;\n",
       "    }\n",
       "\n",
       "    .dataframe tbody tr th {\n",
       "        vertical-align: top;\n",
       "    }\n",
       "\n",
       "    .dataframe thead th {\n",
       "        text-align: right;\n",
       "    }\n",
       "</style>\n",
       "<table border=\"1\" class=\"dataframe\">\n",
       "  <thead>\n",
       "    <tr style=\"text-align: right;\">\n",
       "      <th></th>\n",
       "      <th>SK_ID_CURR</th>\n",
       "      <th>TARGET</th>\n",
       "      <th>CNT_CHILDREN</th>\n",
       "      <th>AMT_INCOME_TOTAL</th>\n",
       "      <th>AMT_CREDIT</th>\n",
       "      <th>AMT_ANNUITY</th>\n",
       "      <th>AMT_GOODS_PRICE</th>\n",
       "      <th>REGION_POPULATION_RELATIVE</th>\n",
       "      <th>DAYS_BIRTH</th>\n",
       "      <th>DAYS_EMPLOYED</th>\n",
       "      <th>...</th>\n",
       "      <th>FLAG_DOCUMENT_18</th>\n",
       "      <th>FLAG_DOCUMENT_19</th>\n",
       "      <th>FLAG_DOCUMENT_20</th>\n",
       "      <th>FLAG_DOCUMENT_21</th>\n",
       "      <th>AMT_REQ_CREDIT_BUREAU_HOUR</th>\n",
       "      <th>AMT_REQ_CREDIT_BUREAU_DAY</th>\n",
       "      <th>AMT_REQ_CREDIT_BUREAU_WEEK</th>\n",
       "      <th>AMT_REQ_CREDIT_BUREAU_MON</th>\n",
       "      <th>AMT_REQ_CREDIT_BUREAU_QRT</th>\n",
       "      <th>AMT_REQ_CREDIT_BUREAU_YEAR</th>\n",
       "    </tr>\n",
       "  </thead>\n",
       "  <tbody>\n",
       "    <tr>\n",
       "      <th>count</th>\n",
       "      <td>307511.000000</td>\n",
       "      <td>307511.000000</td>\n",
       "      <td>307511.000000</td>\n",
       "      <td>3.075110e+05</td>\n",
       "      <td>3.075110e+05</td>\n",
       "      <td>307499.000000</td>\n",
       "      <td>3.072330e+05</td>\n",
       "      <td>307511.000000</td>\n",
       "      <td>307511.000000</td>\n",
       "      <td>307511.000000</td>\n",
       "      <td>...</td>\n",
       "      <td>307511.000000</td>\n",
       "      <td>307511.000000</td>\n",
       "      <td>307511.000000</td>\n",
       "      <td>307511.000000</td>\n",
       "      <td>265992.000000</td>\n",
       "      <td>265992.000000</td>\n",
       "      <td>265992.000000</td>\n",
       "      <td>265992.000000</td>\n",
       "      <td>265992.000000</td>\n",
       "      <td>265992.000000</td>\n",
       "    </tr>\n",
       "    <tr>\n",
       "      <th>mean</th>\n",
       "      <td>278180.518577</td>\n",
       "      <td>0.080729</td>\n",
       "      <td>0.417052</td>\n",
       "      <td>1.687979e+05</td>\n",
       "      <td>5.990260e+05</td>\n",
       "      <td>27108.573909</td>\n",
       "      <td>5.383962e+05</td>\n",
       "      <td>0.020868</td>\n",
       "      <td>-16036.995067</td>\n",
       "      <td>63815.045904</td>\n",
       "      <td>...</td>\n",
       "      <td>0.008130</td>\n",
       "      <td>0.000595</td>\n",
       "      <td>0.000507</td>\n",
       "      <td>0.000335</td>\n",
       "      <td>0.006402</td>\n",
       "      <td>0.007000</td>\n",
       "      <td>0.034362</td>\n",
       "      <td>0.267395</td>\n",
       "      <td>0.265474</td>\n",
       "      <td>1.899974</td>\n",
       "    </tr>\n",
       "    <tr>\n",
       "      <th>std</th>\n",
       "      <td>102790.175348</td>\n",
       "      <td>0.272419</td>\n",
       "      <td>0.722121</td>\n",
       "      <td>2.371231e+05</td>\n",
       "      <td>4.024908e+05</td>\n",
       "      <td>14493.737315</td>\n",
       "      <td>3.694465e+05</td>\n",
       "      <td>0.013831</td>\n",
       "      <td>4363.988632</td>\n",
       "      <td>141275.766519</td>\n",
       "      <td>...</td>\n",
       "      <td>0.089798</td>\n",
       "      <td>0.024387</td>\n",
       "      <td>0.022518</td>\n",
       "      <td>0.018299</td>\n",
       "      <td>0.083849</td>\n",
       "      <td>0.110757</td>\n",
       "      <td>0.204685</td>\n",
       "      <td>0.916002</td>\n",
       "      <td>0.794056</td>\n",
       "      <td>1.869295</td>\n",
       "    </tr>\n",
       "    <tr>\n",
       "      <th>min</th>\n",
       "      <td>100002.000000</td>\n",
       "      <td>0.000000</td>\n",
       "      <td>0.000000</td>\n",
       "      <td>2.565000e+04</td>\n",
       "      <td>4.500000e+04</td>\n",
       "      <td>1615.500000</td>\n",
       "      <td>4.050000e+04</td>\n",
       "      <td>0.000290</td>\n",
       "      <td>-25229.000000</td>\n",
       "      <td>-17912.000000</td>\n",
       "      <td>...</td>\n",
       "      <td>0.000000</td>\n",
       "      <td>0.000000</td>\n",
       "      <td>0.000000</td>\n",
       "      <td>0.000000</td>\n",
       "      <td>0.000000</td>\n",
       "      <td>0.000000</td>\n",
       "      <td>0.000000</td>\n",
       "      <td>0.000000</td>\n",
       "      <td>0.000000</td>\n",
       "      <td>0.000000</td>\n",
       "    </tr>\n",
       "    <tr>\n",
       "      <th>25%</th>\n",
       "      <td>189145.500000</td>\n",
       "      <td>0.000000</td>\n",
       "      <td>0.000000</td>\n",
       "      <td>1.125000e+05</td>\n",
       "      <td>2.700000e+05</td>\n",
       "      <td>16524.000000</td>\n",
       "      <td>2.385000e+05</td>\n",
       "      <td>0.010006</td>\n",
       "      <td>-19682.000000</td>\n",
       "      <td>-2760.000000</td>\n",
       "      <td>...</td>\n",
       "      <td>0.000000</td>\n",
       "      <td>0.000000</td>\n",
       "      <td>0.000000</td>\n",
       "      <td>0.000000</td>\n",
       "      <td>0.000000</td>\n",
       "      <td>0.000000</td>\n",
       "      <td>0.000000</td>\n",
       "      <td>0.000000</td>\n",
       "      <td>0.000000</td>\n",
       "      <td>0.000000</td>\n",
       "    </tr>\n",
       "    <tr>\n",
       "      <th>50%</th>\n",
       "      <td>278202.000000</td>\n",
       "      <td>0.000000</td>\n",
       "      <td>0.000000</td>\n",
       "      <td>1.471500e+05</td>\n",
       "      <td>5.135310e+05</td>\n",
       "      <td>24903.000000</td>\n",
       "      <td>4.500000e+05</td>\n",
       "      <td>0.018850</td>\n",
       "      <td>-15750.000000</td>\n",
       "      <td>-1213.000000</td>\n",
       "      <td>...</td>\n",
       "      <td>0.000000</td>\n",
       "      <td>0.000000</td>\n",
       "      <td>0.000000</td>\n",
       "      <td>0.000000</td>\n",
       "      <td>0.000000</td>\n",
       "      <td>0.000000</td>\n",
       "      <td>0.000000</td>\n",
       "      <td>0.000000</td>\n",
       "      <td>0.000000</td>\n",
       "      <td>1.000000</td>\n",
       "    </tr>\n",
       "    <tr>\n",
       "      <th>75%</th>\n",
       "      <td>367142.500000</td>\n",
       "      <td>0.000000</td>\n",
       "      <td>1.000000</td>\n",
       "      <td>2.025000e+05</td>\n",
       "      <td>8.086500e+05</td>\n",
       "      <td>34596.000000</td>\n",
       "      <td>6.795000e+05</td>\n",
       "      <td>0.028663</td>\n",
       "      <td>-12413.000000</td>\n",
       "      <td>-289.000000</td>\n",
       "      <td>...</td>\n",
       "      <td>0.000000</td>\n",
       "      <td>0.000000</td>\n",
       "      <td>0.000000</td>\n",
       "      <td>0.000000</td>\n",
       "      <td>0.000000</td>\n",
       "      <td>0.000000</td>\n",
       "      <td>0.000000</td>\n",
       "      <td>0.000000</td>\n",
       "      <td>0.000000</td>\n",
       "      <td>3.000000</td>\n",
       "    </tr>\n",
       "    <tr>\n",
       "      <th>max</th>\n",
       "      <td>456255.000000</td>\n",
       "      <td>1.000000</td>\n",
       "      <td>19.000000</td>\n",
       "      <td>1.170000e+08</td>\n",
       "      <td>4.050000e+06</td>\n",
       "      <td>258025.500000</td>\n",
       "      <td>4.050000e+06</td>\n",
       "      <td>0.072508</td>\n",
       "      <td>-7489.000000</td>\n",
       "      <td>365243.000000</td>\n",
       "      <td>...</td>\n",
       "      <td>1.000000</td>\n",
       "      <td>1.000000</td>\n",
       "      <td>1.000000</td>\n",
       "      <td>1.000000</td>\n",
       "      <td>4.000000</td>\n",
       "      <td>9.000000</td>\n",
       "      <td>8.000000</td>\n",
       "      <td>27.000000</td>\n",
       "      <td>261.000000</td>\n",
       "      <td>25.000000</td>\n",
       "    </tr>\n",
       "  </tbody>\n",
       "</table>\n",
       "<p>8 rows × 106 columns</p>\n",
       "</div>"
      ],
      "text/plain": [
       "          SK_ID_CURR         TARGET   CNT_CHILDREN  AMT_INCOME_TOTAL  \\\n",
       "count  307511.000000  307511.000000  307511.000000      3.075110e+05   \n",
       "mean   278180.518577       0.080729       0.417052      1.687979e+05   \n",
       "std    102790.175348       0.272419       0.722121      2.371231e+05   \n",
       "min    100002.000000       0.000000       0.000000      2.565000e+04   \n",
       "25%    189145.500000       0.000000       0.000000      1.125000e+05   \n",
       "50%    278202.000000       0.000000       0.000000      1.471500e+05   \n",
       "75%    367142.500000       0.000000       1.000000      2.025000e+05   \n",
       "max    456255.000000       1.000000      19.000000      1.170000e+08   \n",
       "\n",
       "         AMT_CREDIT    AMT_ANNUITY  AMT_GOODS_PRICE  \\\n",
       "count  3.075110e+05  307499.000000     3.072330e+05   \n",
       "mean   5.990260e+05   27108.573909     5.383962e+05   \n",
       "std    4.024908e+05   14493.737315     3.694465e+05   \n",
       "min    4.500000e+04    1615.500000     4.050000e+04   \n",
       "25%    2.700000e+05   16524.000000     2.385000e+05   \n",
       "50%    5.135310e+05   24903.000000     4.500000e+05   \n",
       "75%    8.086500e+05   34596.000000     6.795000e+05   \n",
       "max    4.050000e+06  258025.500000     4.050000e+06   \n",
       "\n",
       "       REGION_POPULATION_RELATIVE     DAYS_BIRTH  DAYS_EMPLOYED  ...  \\\n",
       "count               307511.000000  307511.000000  307511.000000  ...   \n",
       "mean                     0.020868  -16036.995067   63815.045904  ...   \n",
       "std                      0.013831    4363.988632  141275.766519  ...   \n",
       "min                      0.000290  -25229.000000  -17912.000000  ...   \n",
       "25%                      0.010006  -19682.000000   -2760.000000  ...   \n",
       "50%                      0.018850  -15750.000000   -1213.000000  ...   \n",
       "75%                      0.028663  -12413.000000    -289.000000  ...   \n",
       "max                      0.072508   -7489.000000  365243.000000  ...   \n",
       "\n",
       "       FLAG_DOCUMENT_18  FLAG_DOCUMENT_19  FLAG_DOCUMENT_20  FLAG_DOCUMENT_21  \\\n",
       "count     307511.000000     307511.000000     307511.000000     307511.000000   \n",
       "mean           0.008130          0.000595          0.000507          0.000335   \n",
       "std            0.089798          0.024387          0.022518          0.018299   \n",
       "min            0.000000          0.000000          0.000000          0.000000   \n",
       "25%            0.000000          0.000000          0.000000          0.000000   \n",
       "50%            0.000000          0.000000          0.000000          0.000000   \n",
       "75%            0.000000          0.000000          0.000000          0.000000   \n",
       "max            1.000000          1.000000          1.000000          1.000000   \n",
       "\n",
       "       AMT_REQ_CREDIT_BUREAU_HOUR  AMT_REQ_CREDIT_BUREAU_DAY  \\\n",
       "count               265992.000000              265992.000000   \n",
       "mean                     0.006402                   0.007000   \n",
       "std                      0.083849                   0.110757   \n",
       "min                      0.000000                   0.000000   \n",
       "25%                      0.000000                   0.000000   \n",
       "50%                      0.000000                   0.000000   \n",
       "75%                      0.000000                   0.000000   \n",
       "max                      4.000000                   9.000000   \n",
       "\n",
       "       AMT_REQ_CREDIT_BUREAU_WEEK  AMT_REQ_CREDIT_BUREAU_MON  \\\n",
       "count               265992.000000              265992.000000   \n",
       "mean                     0.034362                   0.267395   \n",
       "std                      0.204685                   0.916002   \n",
       "min                      0.000000                   0.000000   \n",
       "25%                      0.000000                   0.000000   \n",
       "50%                      0.000000                   0.000000   \n",
       "75%                      0.000000                   0.000000   \n",
       "max                      8.000000                  27.000000   \n",
       "\n",
       "       AMT_REQ_CREDIT_BUREAU_QRT  AMT_REQ_CREDIT_BUREAU_YEAR  \n",
       "count              265992.000000               265992.000000  \n",
       "mean                    0.265474                    1.899974  \n",
       "std                     0.794056                    1.869295  \n",
       "min                     0.000000                    0.000000  \n",
       "25%                     0.000000                    0.000000  \n",
       "50%                     0.000000                    1.000000  \n",
       "75%                     0.000000                    3.000000  \n",
       "max                   261.000000                   25.000000  \n",
       "\n",
       "[8 rows x 106 columns]"
      ]
     },
     "execution_count": 119,
     "metadata": {},
     "output_type": "execute_result"
    }
   ],
   "source": [
    "# CHECKING THE SUMMARY OF NUMERIC COLUMNS\n",
    "appdata.describe()"
   ]
  },
  {
   "cell_type": "markdown",
   "metadata": {},
   "source": [
    "### DROPPING UNNECESSARY COLUMNS IN APPLICATION DATA FRAME"
   ]
  },
  {
   "cell_type": "code",
   "execution_count": 120,
   "metadata": {},
   "outputs": [],
   "source": [
    "l = ['OCCUPATION_TYPE','OWN_CAR_AGE','EMERGENCYSTATE_MODE','WALLSMATERIAL_MODE','TOTALAREA_MODE','HOUSETYPE_MODE',\n",
    "     'FONDKAPREMONT_MODE','NONLIVINGAREA_MEDI','NONLIVINGAPARTMENTS_MEDI','LIVINGAREA_MEDI','LIVINGAPARTMENTS_MEDI',\n",
    "     'LANDAREA_MEDI','FLOORSMIN_MEDI','FLOORSMAX_MEDI','ENTRANCES_MEDI','ELEVATORS_MEDI','COMMONAREA_MEDI','YEARS_BUILD_MEDI',\n",
    "     'YEARS_BEGINEXPLUATATION_MEDI','BASEMENTAREA_MEDI','APARTMENTS_MEDI','NONLIVINGAREA_MODE','NONLIVINGAPARTMENTS_MODE',\n",
    "     'LIVINGAREA_MODE','LIVINGAPARTMENTS_MODE','LANDAREA_MODE','FLOORSMIN_MODE','FLOORSMAX_MODE','ENTRANCES_MODE',\n",
    "     'ELEVATORS_MODE','COMMONAREA_MODE','YEARS_BUILD_MODE','YEARS_BEGINEXPLUATATION_MODE','BASEMENTAREA_MODE','APARTMENTS_MODE',\n",
    "     'NONLIVINGAREA_AVG','NONLIVINGAPARTMENTS_AVG','LIVINGAREA_AVG','LIVINGAPARTMENTS_AVG','LANDAREA_AVG','FLOORSMIN_AVG',\n",
    "     'FLOORSMAX_AVG','ENTRANCES_AVG','ELEVATORS_AVG','COMMONAREA_AVG','YEARS_BUILD_AVG','YEARS_BEGINEXPLUATATION_AVG',\n",
    "     'BASEMENTAREA_AVG','APARTMENTS_AVG','EXT_SOURCE_3','EXT_SOURCE_2','EXT_SOURCE_1','FLAG_MOBIL', 'FLAG_EMP_PHONE', 'FLAG_WORK_PHONE', 'FLAG_CONT_MOBILE',\n",
    "     'FLAG_PHONE', 'FLAG_EMAIL','FLAG_EMAIL','REGION_RATING_CLIENT','REGION_RATING_CLIENT_W_CITY','NAME_TYPE_SUITE','REGION_POPULATION_RELATIVE','WEEKDAY_APPR_PROCESS_START','HOUR_APPR_PROCESS_START',\n",
    "      'REG_REGION_NOT_LIVE_REGION','REG_REGION_NOT_WORK_REGION','LIVE_REGION_NOT_WORK_REGION','REG_CITY_NOT_LIVE_CITY',\n",
    "      'REG_CITY_NOT_WORK_CITY','LIVE_CITY_NOT_WORK_CITY']\n",
    "appdata.drop(l,axis = 1,inplace = True)"
   ]
  },
  {
   "cell_type": "code",
   "execution_count": 121,
   "metadata": {},
   "outputs": [
    {
     "name": "stdout",
     "output_type": "stream",
     "text": [
      "<class 'pandas.core.frame.DataFrame'>\n",
      "RangeIndex: 307511 entries, 0 to 307510\n",
      "Data columns (total 52 columns):\n",
      " #   Column                      Non-Null Count   Dtype  \n",
      "---  ------                      --------------   -----  \n",
      " 0   SK_ID_CURR                  307511 non-null  int64  \n",
      " 1   TARGET                      307511 non-null  int64  \n",
      " 2   NAME_CONTRACT_TYPE          307511 non-null  object \n",
      " 3   CODE_GENDER                 307511 non-null  object \n",
      " 4   FLAG_OWN_CAR                307511 non-null  object \n",
      " 5   FLAG_OWN_REALTY             307511 non-null  object \n",
      " 6   CNT_CHILDREN                307511 non-null  int64  \n",
      " 7   AMT_INCOME_TOTAL            307511 non-null  float64\n",
      " 8   AMT_CREDIT                  307511 non-null  float64\n",
      " 9   AMT_ANNUITY                 307499 non-null  float64\n",
      " 10  AMT_GOODS_PRICE             307233 non-null  float64\n",
      " 11  NAME_INCOME_TYPE            307511 non-null  object \n",
      " 12  NAME_EDUCATION_TYPE         307511 non-null  object \n",
      " 13  NAME_FAMILY_STATUS          307511 non-null  object \n",
      " 14  NAME_HOUSING_TYPE           307511 non-null  object \n",
      " 15  DAYS_BIRTH                  307511 non-null  int64  \n",
      " 16  DAYS_EMPLOYED               307511 non-null  int64  \n",
      " 17  DAYS_REGISTRATION           307511 non-null  float64\n",
      " 18  DAYS_ID_PUBLISH             307511 non-null  int64  \n",
      " 19  CNT_FAM_MEMBERS             307509 non-null  float64\n",
      " 20  ORGANIZATION_TYPE           307511 non-null  object \n",
      " 21  OBS_30_CNT_SOCIAL_CIRCLE    306490 non-null  float64\n",
      " 22  DEF_30_CNT_SOCIAL_CIRCLE    306490 non-null  float64\n",
      " 23  OBS_60_CNT_SOCIAL_CIRCLE    306490 non-null  float64\n",
      " 24  DEF_60_CNT_SOCIAL_CIRCLE    306490 non-null  float64\n",
      " 25  DAYS_LAST_PHONE_CHANGE      307510 non-null  float64\n",
      " 26  FLAG_DOCUMENT_2             307511 non-null  int64  \n",
      " 27  FLAG_DOCUMENT_3             307511 non-null  int64  \n",
      " 28  FLAG_DOCUMENT_4             307511 non-null  int64  \n",
      " 29  FLAG_DOCUMENT_5             307511 non-null  int64  \n",
      " 30  FLAG_DOCUMENT_6             307511 non-null  int64  \n",
      " 31  FLAG_DOCUMENT_7             307511 non-null  int64  \n",
      " 32  FLAG_DOCUMENT_8             307511 non-null  int64  \n",
      " 33  FLAG_DOCUMENT_9             307511 non-null  int64  \n",
      " 34  FLAG_DOCUMENT_10            307511 non-null  int64  \n",
      " 35  FLAG_DOCUMENT_11            307511 non-null  int64  \n",
      " 36  FLAG_DOCUMENT_12            307511 non-null  int64  \n",
      " 37  FLAG_DOCUMENT_13            307511 non-null  int64  \n",
      " 38  FLAG_DOCUMENT_14            307511 non-null  int64  \n",
      " 39  FLAG_DOCUMENT_15            307511 non-null  int64  \n",
      " 40  FLAG_DOCUMENT_16            307511 non-null  int64  \n",
      " 41  FLAG_DOCUMENT_17            307511 non-null  int64  \n",
      " 42  FLAG_DOCUMENT_18            307511 non-null  int64  \n",
      " 43  FLAG_DOCUMENT_19            307511 non-null  int64  \n",
      " 44  FLAG_DOCUMENT_20            307511 non-null  int64  \n",
      " 45  FLAG_DOCUMENT_21            307511 non-null  int64  \n",
      " 46  AMT_REQ_CREDIT_BUREAU_HOUR  265992 non-null  float64\n",
      " 47  AMT_REQ_CREDIT_BUREAU_DAY   265992 non-null  float64\n",
      " 48  AMT_REQ_CREDIT_BUREAU_WEEK  265992 non-null  float64\n",
      " 49  AMT_REQ_CREDIT_BUREAU_MON   265992 non-null  float64\n",
      " 50  AMT_REQ_CREDIT_BUREAU_QRT   265992 non-null  float64\n",
      " 51  AMT_REQ_CREDIT_BUREAU_YEAR  265992 non-null  float64\n",
      "dtypes: float64(17), int64(26), object(9)\n",
      "memory usage: 122.0+ MB\n"
     ]
    }
   ],
   "source": [
    "appdata.info()"
   ]
  },
  {
   "cell_type": "markdown",
   "metadata": {},
   "source": [
    "### MISSING VALUES ANALYSIS FOR APPLICATION DATA"
   ]
  },
  {
   "cell_type": "code",
   "execution_count": 122,
   "metadata": {},
   "outputs": [
    {
     "data": {
      "text/plain": [
       "AMT_ANNUITY                   0.000039\n",
       "AMT_GOODS_PRICE               0.000904\n",
       "CNT_FAM_MEMBERS               0.000007\n",
       "OBS_30_CNT_SOCIAL_CIRCLE      0.003320\n",
       "DEF_30_CNT_SOCIAL_CIRCLE      0.003320\n",
       "OBS_60_CNT_SOCIAL_CIRCLE      0.003320\n",
       "DEF_60_CNT_SOCIAL_CIRCLE      0.003320\n",
       "DAYS_LAST_PHONE_CHANGE        0.000003\n",
       "AMT_REQ_CREDIT_BUREAU_HOUR    0.135016\n",
       "AMT_REQ_CREDIT_BUREAU_DAY     0.135016\n",
       "AMT_REQ_CREDIT_BUREAU_WEEK    0.135016\n",
       "AMT_REQ_CREDIT_BUREAU_MON     0.135016\n",
       "AMT_REQ_CREDIT_BUREAU_QRT     0.135016\n",
       "AMT_REQ_CREDIT_BUREAU_YEAR    0.135016\n",
       "dtype: float64"
      ]
     },
     "execution_count": 122,
     "metadata": {},
     "output_type": "execute_result"
    }
   ],
   "source": [
    "# FINDING COLUMNS WHICH HAVE MISSING VALUES\n",
    "temp = appdata.isnull().sum()/len(appdata)\n",
    "temp[temp != 0]"
   ]
  },
  {
   "cell_type": "code",
   "execution_count": 123,
   "metadata": {},
   "outputs": [
    {
     "data": {
      "text/plain": [
       "count    265992.000000\n",
       "mean          0.006402\n",
       "std           0.083849\n",
       "min           0.000000\n",
       "25%           0.000000\n",
       "50%           0.000000\n",
       "75%           0.000000\n",
       "max           4.000000\n",
       "Name: AMT_REQ_CREDIT_BUREAU_HOUR, dtype: float64"
      ]
     },
     "execution_count": 123,
     "metadata": {},
     "output_type": "execute_result"
    }
   ],
   "source": [
    "# HANDLING AMT_REQ_CREDIT_BUREAU_HOUR COLUMN\n",
    "appdata['AMT_REQ_CREDIT_BUREAU_HOUR'].describe()"
   ]
  },
  {
   "cell_type": "code",
   "execution_count": 124,
   "metadata": {},
   "outputs": [],
   "source": [
    "# REPLACING MISSING VALUES WITH MEDIAN\n",
    "appdata['AMT_REQ_CREDIT_BUREAU_HOUR'].fillna(appdata['AMT_REQ_CREDIT_BUREAU_HOUR'].median(),inplace = True)"
   ]
  },
  {
   "cell_type": "code",
   "execution_count": 125,
   "metadata": {},
   "outputs": [
    {
     "data": {
      "text/plain": [
       "0"
      ]
     },
     "execution_count": 125,
     "metadata": {},
     "output_type": "execute_result"
    }
   ],
   "source": [
    "# CHECKING IF NULL VALUES ARE REMOVED OR NOT\n",
    "appdata['AMT_REQ_CREDIT_BUREAU_HOUR'].isnull().sum()"
   ]
  },
  {
   "cell_type": "code",
   "execution_count": 126,
   "metadata": {},
   "outputs": [
    {
     "data": {
      "text/plain": [
       "count    265992.000000\n",
       "mean          0.007000\n",
       "std           0.110757\n",
       "min           0.000000\n",
       "25%           0.000000\n",
       "50%           0.000000\n",
       "75%           0.000000\n",
       "max           9.000000\n",
       "Name: AMT_REQ_CREDIT_BUREAU_DAY, dtype: float64"
      ]
     },
     "execution_count": 126,
     "metadata": {},
     "output_type": "execute_result"
    }
   ],
   "source": [
    "# HANDLING AMT_REQ_CREDIT_BUREAU_DAY COLUMN\n",
    "appdata['AMT_REQ_CREDIT_BUREAU_DAY'].describe()"
   ]
  },
  {
   "cell_type": "code",
   "execution_count": 127,
   "metadata": {},
   "outputs": [],
   "source": [
    "# REPLACING MISSING VALUES WITH MEDIAN\n",
    "appdata['AMT_REQ_CREDIT_BUREAU_DAY'].fillna(appdata['AMT_REQ_CREDIT_BUREAU_DAY'].median(),inplace = True)"
   ]
  },
  {
   "cell_type": "code",
   "execution_count": 128,
   "metadata": {},
   "outputs": [
    {
     "data": {
      "text/plain": [
       "0"
      ]
     },
     "execution_count": 128,
     "metadata": {},
     "output_type": "execute_result"
    }
   ],
   "source": [
    "# CHECKING IF NULL VALUES ARE REMOVED OR NOT\n",
    "appdata['AMT_REQ_CREDIT_BUREAU_DAY'].isnull().sum()"
   ]
  },
  {
   "cell_type": "code",
   "execution_count": 129,
   "metadata": {},
   "outputs": [
    {
     "data": {
      "text/plain": [
       "count    265992.000000\n",
       "mean          0.034362\n",
       "std           0.204685\n",
       "min           0.000000\n",
       "25%           0.000000\n",
       "50%           0.000000\n",
       "75%           0.000000\n",
       "max           8.000000\n",
       "Name: AMT_REQ_CREDIT_BUREAU_WEEK, dtype: float64"
      ]
     },
     "execution_count": 129,
     "metadata": {},
     "output_type": "execute_result"
    }
   ],
   "source": [
    "# HANDLING AMT_REQ_CREDIT_BUREAU_WEEK COLUMN\n",
    "appdata['AMT_REQ_CREDIT_BUREAU_WEEK'].describe()"
   ]
  },
  {
   "cell_type": "code",
   "execution_count": 130,
   "metadata": {},
   "outputs": [],
   "source": [
    "# REPLACING MISSING VALUES WITH MEDIAN\n",
    "appdata['AMT_REQ_CREDIT_BUREAU_WEEK'].fillna(appdata['AMT_REQ_CREDIT_BUREAU_WEEK'].median(),inplace = True)"
   ]
  },
  {
   "cell_type": "code",
   "execution_count": 131,
   "metadata": {},
   "outputs": [
    {
     "data": {
      "text/plain": [
       "0"
      ]
     },
     "execution_count": 131,
     "metadata": {},
     "output_type": "execute_result"
    }
   ],
   "source": [
    "# CHECKING IF NULL VALUES ARE REMOVED OR NOT\n",
    "appdata['AMT_REQ_CREDIT_BUREAU_WEEK'].isnull().sum()"
   ]
  },
  {
   "cell_type": "code",
   "execution_count": 132,
   "metadata": {},
   "outputs": [
    {
     "data": {
      "text/plain": [
       "count    265992.000000\n",
       "mean          0.267395\n",
       "std           0.916002\n",
       "min           0.000000\n",
       "25%           0.000000\n",
       "50%           0.000000\n",
       "75%           0.000000\n",
       "max          27.000000\n",
       "Name: AMT_REQ_CREDIT_BUREAU_MON, dtype: float64"
      ]
     },
     "execution_count": 132,
     "metadata": {},
     "output_type": "execute_result"
    }
   ],
   "source": [
    "# HANDLING AMT_REQ_CREDIT_BUREAU_MON COLUMN\n",
    "appdata['AMT_REQ_CREDIT_BUREAU_MON'].describe()"
   ]
  },
  {
   "cell_type": "code",
   "execution_count": 133,
   "metadata": {},
   "outputs": [],
   "source": [
    "# REPLACING MISSING VALUES WITH MEDIAN\n",
    "appdata['AMT_REQ_CREDIT_BUREAU_MON'].fillna(appdata['AMT_REQ_CREDIT_BUREAU_MON'].median(),inplace = True)"
   ]
  },
  {
   "cell_type": "code",
   "execution_count": 134,
   "metadata": {},
   "outputs": [
    {
     "data": {
      "text/plain": [
       "0"
      ]
     },
     "execution_count": 134,
     "metadata": {},
     "output_type": "execute_result"
    }
   ],
   "source": [
    "# CHECKING IF NULL VALUES ARE REMOVED OR NOT\n",
    "appdata['AMT_REQ_CREDIT_BUREAU_MON'].isnull().sum()"
   ]
  },
  {
   "cell_type": "code",
   "execution_count": 135,
   "metadata": {},
   "outputs": [
    {
     "data": {
      "text/plain": [
       "count    265992.000000\n",
       "mean          0.265474\n",
       "std           0.794056\n",
       "min           0.000000\n",
       "25%           0.000000\n",
       "50%           0.000000\n",
       "75%           0.000000\n",
       "max         261.000000\n",
       "Name: AMT_REQ_CREDIT_BUREAU_QRT, dtype: float64"
      ]
     },
     "execution_count": 135,
     "metadata": {},
     "output_type": "execute_result"
    }
   ],
   "source": [
    "# HANDLING AMT_REQ_CREDIT_BUREAU_QRT COLUMN\n",
    "appdata['AMT_REQ_CREDIT_BUREAU_QRT'].describe()"
   ]
  },
  {
   "cell_type": "code",
   "execution_count": 136,
   "metadata": {},
   "outputs": [],
   "source": [
    "# REPLACING MISSING VALUES WITH MEDIAN\n",
    "appdata['AMT_REQ_CREDIT_BUREAU_QRT'].fillna(appdata['AMT_REQ_CREDIT_BUREAU_QRT'].median(),inplace = True)"
   ]
  },
  {
   "cell_type": "code",
   "execution_count": 137,
   "metadata": {},
   "outputs": [
    {
     "data": {
      "text/plain": [
       "0"
      ]
     },
     "execution_count": 137,
     "metadata": {},
     "output_type": "execute_result"
    }
   ],
   "source": [
    "# CHECKING IF NULL VALUES ARE REMOVED OR NOT\n",
    "appdata['AMT_REQ_CREDIT_BUREAU_QRT'].isnull().sum()"
   ]
  },
  {
   "cell_type": "code",
   "execution_count": 138,
   "metadata": {},
   "outputs": [
    {
     "data": {
      "text/plain": [
       "count    265992.000000\n",
       "mean          1.899974\n",
       "std           1.869295\n",
       "min           0.000000\n",
       "25%           0.000000\n",
       "50%           1.000000\n",
       "75%           3.000000\n",
       "max          25.000000\n",
       "Name: AMT_REQ_CREDIT_BUREAU_YEAR, dtype: float64"
      ]
     },
     "execution_count": 138,
     "metadata": {},
     "output_type": "execute_result"
    }
   ],
   "source": [
    "# HANDLING AMT_REQ_CREDIT_BUREAU_YEAR COLUMN\n",
    "appdata['AMT_REQ_CREDIT_BUREAU_YEAR'].describe()"
   ]
  },
  {
   "cell_type": "code",
   "execution_count": 139,
   "metadata": {},
   "outputs": [],
   "source": [
    "# REPLACING MISSING VALUES WITH MEDIAN\n",
    "appdata['AMT_REQ_CREDIT_BUREAU_YEAR'].fillna(appdata['AMT_REQ_CREDIT_BUREAU_YEAR'].median(),inplace = True)"
   ]
  },
  {
   "cell_type": "code",
   "execution_count": 140,
   "metadata": {},
   "outputs": [
    {
     "data": {
      "text/plain": [
       "0"
      ]
     },
     "execution_count": 140,
     "metadata": {},
     "output_type": "execute_result"
    }
   ],
   "source": [
    "# CHECKING IF NULL VALUES ARE REMOVED OR NOT\n",
    "appdata['AMT_REQ_CREDIT_BUREAU_YEAR'].isnull().sum()"
   ]
  },
  {
   "cell_type": "code",
   "execution_count": 141,
   "metadata": {},
   "outputs": [
    {
     "data": {
      "text/plain": [
       "AMT_ANNUITY                 0.000039\n",
       "AMT_GOODS_PRICE             0.000904\n",
       "CNT_FAM_MEMBERS             0.000007\n",
       "OBS_30_CNT_SOCIAL_CIRCLE    0.003320\n",
       "DEF_30_CNT_SOCIAL_CIRCLE    0.003320\n",
       "OBS_60_CNT_SOCIAL_CIRCLE    0.003320\n",
       "DEF_60_CNT_SOCIAL_CIRCLE    0.003320\n",
       "DAYS_LAST_PHONE_CHANGE      0.000003\n",
       "dtype: float64"
      ]
     },
     "execution_count": 141,
     "metadata": {},
     "output_type": "execute_result"
    }
   ],
   "source": [
    "# CHECKING WHAT COLUMNS HAVE NULL VALUES AGAIN\n",
    "temp = appdata.isnull().sum()/len(appdata)\n",
    "temp[temp != 0]"
   ]
  },
  {
   "cell_type": "code",
   "execution_count": 142,
   "metadata": {},
   "outputs": [
    {
     "data": {
      "text/plain": [
       "count    307499.000000\n",
       "mean      27108.573909\n",
       "std       14493.737315\n",
       "min        1615.500000\n",
       "25%       16524.000000\n",
       "50%       24903.000000\n",
       "75%       34596.000000\n",
       "max      258025.500000\n",
       "Name: AMT_ANNUITY, dtype: float64"
      ]
     },
     "execution_count": 142,
     "metadata": {},
     "output_type": "execute_result"
    }
   ],
   "source": [
    "# HANDLING AMT_ANNUITY\n",
    "appdata['AMT_ANNUITY'].describe()"
   ]
  },
  {
   "cell_type": "code",
   "execution_count": 143,
   "metadata": {},
   "outputs": [
    {
     "data": {
      "image/png": "[encoded data removed]",
      "text/plain": [
       "<Figure size 432x288 with 1 Axes>"
      ]
     },
     "metadata": {
      "needs_background": "light"
     },
     "output_type": "display_data"
    }
   ],
   "source": [
    "# THERE ARE MANY OUTLIERS ,TO GET A BETTER VIEW BOX PLOT IS DONE\n",
    "sns.boxplot(appdata['AMT_ANNUITY'])\n",
    "plt.show()"
   ]
  },
  {
   "cell_type": "code",
   "execution_count": 144,
   "metadata": {},
   "outputs": [
    {
     "data": {
      "text/plain": [
       "0"
      ]
     },
     "execution_count": 144,
     "metadata": {},
     "output_type": "execute_result"
    }
   ],
   "source": [
    "# SINCE THERE ARE LOT OF OUTLIERS BETTER TO USE MEDIAN FOR IMPUTING MISSING VALUES\n",
    "appdata['AMT_ANNUITY'].fillna(appdata['AMT_ANNUITY'].median(),inplace = True)\n",
    "appdata['AMT_ANNUITY'].isnull().sum()"
   ]
  },
  {
   "cell_type": "code",
   "execution_count": 145,
   "metadata": {},
   "outputs": [
    {
     "data": {
      "text/plain": [
       "count    306490.000000\n",
       "mean          1.422245\n",
       "std           2.400989\n",
       "min           0.000000\n",
       "25%           0.000000\n",
       "50%           0.000000\n",
       "75%           2.000000\n",
       "max         348.000000\n",
       "Name: OBS_30_CNT_SOCIAL_CIRCLE, dtype: float64"
      ]
     },
     "execution_count": 145,
     "metadata": {},
     "output_type": "execute_result"
    }
   ],
   "source": [
    "# HANDLING OBS_30_CNT_SOCIAL_CIRCLE COLUMN\n",
    "appdata['OBS_30_CNT_SOCIAL_CIRCLE'].describe()"
   ]
  },
  {
   "cell_type": "code",
   "execution_count": 146,
   "metadata": {},
   "outputs": [
    {
     "data": {
      "text/plain": [
       "0"
      ]
     },
     "execution_count": 146,
     "metadata": {},
     "output_type": "execute_result"
    }
   ],
   "source": [
    "# USING MEDIAN TO IMPUTE\n",
    "appdata['OBS_30_CNT_SOCIAL_CIRCLE'].fillna(appdata['OBS_30_CNT_SOCIAL_CIRCLE'].median(),inplace = True)\n",
    "appdata['OBS_30_CNT_SOCIAL_CIRCLE'].isnull().sum()"
   ]
  },
  {
   "cell_type": "code",
   "execution_count": 147,
   "metadata": {},
   "outputs": [
    {
     "data": {
      "text/plain": [
       "count    306490.000000\n",
       "mean          0.143421\n",
       "std           0.446698\n",
       "min           0.000000\n",
       "25%           0.000000\n",
       "50%           0.000000\n",
       "75%           0.000000\n",
       "max          34.000000\n",
       "Name: DEF_30_CNT_SOCIAL_CIRCLE, dtype: float64"
      ]
     },
     "execution_count": 147,
     "metadata": {},
     "output_type": "execute_result"
    }
   ],
   "source": [
    "# HANDLING DEF_30_CNT_SOCIAL_CIRCLE COLUMN\n",
    "appdata['DEF_30_CNT_SOCIAL_CIRCLE'].describe()"
   ]
  },
  {
   "cell_type": "code",
   "execution_count": 148,
   "metadata": {},
   "outputs": [
    {
     "data": {
      "text/plain": [
       "0"
      ]
     },
     "execution_count": 148,
     "metadata": {},
     "output_type": "execute_result"
    }
   ],
   "source": [
    "# USING MEDIAN TO IMPUTE\n",
    "appdata['DEF_30_CNT_SOCIAL_CIRCLE'].fillna(appdata['DEF_30_CNT_SOCIAL_CIRCLE'].median(),inplace = True)\n",
    "appdata['DEF_30_CNT_SOCIAL_CIRCLE'].isnull().sum()"
   ]
  },
  {
   "cell_type": "code",
   "execution_count": 149,
   "metadata": {},
   "outputs": [
    {
     "data": {
      "text/plain": [
       "count    306490.000000\n",
       "mean          1.405292\n",
       "std           2.379803\n",
       "min           0.000000\n",
       "25%           0.000000\n",
       "50%           0.000000\n",
       "75%           2.000000\n",
       "max         344.000000\n",
       "Name: OBS_60_CNT_SOCIAL_CIRCLE, dtype: float64"
      ]
     },
     "execution_count": 149,
     "metadata": {},
     "output_type": "execute_result"
    }
   ],
   "source": [
    "# HANDLING OBS_60_CNT_SOCIAL_CIRCLE COLUMN\n",
    "appdata['OBS_60_CNT_SOCIAL_CIRCLE'].describe()"
   ]
  },
  {
   "cell_type": "code",
   "execution_count": 150,
   "metadata": {},
   "outputs": [
    {
     "data": {
      "text/plain": [
       "0"
      ]
     },
     "execution_count": 150,
     "metadata": {},
     "output_type": "execute_result"
    }
   ],
   "source": [
    "# USING MEDIAN TO IMPUTE\n",
    "appdata['OBS_60_CNT_SOCIAL_CIRCLE'].fillna(appdata['OBS_60_CNT_SOCIAL_CIRCLE'].median(),inplace = True)\n",
    "appdata['OBS_60_CNT_SOCIAL_CIRCLE'].isnull().sum()"
   ]
  },
  {
   "cell_type": "code",
   "execution_count": 151,
   "metadata": {},
   "outputs": [
    {
     "data": {
      "text/plain": [
       "count    306490.000000\n",
       "mean          0.100049\n",
       "std           0.362291\n",
       "min           0.000000\n",
       "25%           0.000000\n",
       "50%           0.000000\n",
       "75%           0.000000\n",
       "max          24.000000\n",
       "Name: DEF_60_CNT_SOCIAL_CIRCLE, dtype: float64"
      ]
     },
     "execution_count": 151,
     "metadata": {},
     "output_type": "execute_result"
    }
   ],
   "source": [
    "# HANDLING DEF_60_CNT_SOCIAL_CIRCLE COLUMN\n",
    "appdata['DEF_60_CNT_SOCIAL_CIRCLE'].describe()"
   ]
  },
  {
   "cell_type": "code",
   "execution_count": 152,
   "metadata": {},
   "outputs": [
    {
     "data": {
      "text/plain": [
       "0"
      ]
     },
     "execution_count": 152,
     "metadata": {},
     "output_type": "execute_result"
    }
   ],
   "source": [
    "# USING MEDIAN TO IMPUTE\n",
    "appdata['DEF_60_CNT_SOCIAL_CIRCLE'].fillna(appdata['DEF_60_CNT_SOCIAL_CIRCLE'].median(),inplace = True)\n",
    "appdata['DEF_60_CNT_SOCIAL_CIRCLE'].isnull().sum()"
   ]
  },
  {
   "cell_type": "code",
   "execution_count": 153,
   "metadata": {},
   "outputs": [
    {
     "data": {
      "text/plain": [
       "AMT_GOODS_PRICE           0.000904\n",
       "CNT_FAM_MEMBERS           0.000007\n",
       "DAYS_LAST_PHONE_CHANGE    0.000003\n",
       "dtype: float64"
      ]
     },
     "execution_count": 153,
     "metadata": {},
     "output_type": "execute_result"
    }
   ],
   "source": [
    "# AGAIN CHECKING COLUMNS WHICH HAVE NULL VALUES\n",
    "temp = appdata.isnull().sum()/len(appdata)\n",
    "temp[temp != 0]"
   ]
  },
  {
   "cell_type": "code",
   "execution_count": 154,
   "metadata": {},
   "outputs": [
    {
     "data": {
      "image/png": "[encoded data removed]",
      "text/plain": [
       "<Figure size 432x288 with 1 Axes>"
      ]
     },
     "metadata": {
      "needs_background": "light"
     },
     "output_type": "display_data"
    }
   ],
   "source": [
    "# HANDLING AMT_GOODS_PRICE COLUMN\n",
    "sns.boxplot(appdata['AMT_GOODS_PRICE'])\n",
    "plt.show()"
   ]
  },
  {
   "cell_type": "code",
   "execution_count": 155,
   "metadata": {},
   "outputs": [
    {
     "data": {
      "text/plain": [
       "0"
      ]
     },
     "execution_count": 155,
     "metadata": {},
     "output_type": "execute_result"
    }
   ],
   "source": [
    "# SINCE LOT OF OUTLIERS ARE THERE IT IS BETTER TO USE MEDIAN FOR THE DATA\n",
    "# OUTLIERS ARE THOSE DATA POINTS WHICH ARE OUTSIDE THE WHISKERS OF BOX PLOT \n",
    "appdata['AMT_GOODS_PRICE'].fillna(appdata['AMT_GOODS_PRICE'].median(),inplace = True)\n",
    "appdata['AMT_GOODS_PRICE'].isnull().sum()"
   ]
  },
  {
   "cell_type": "code",
   "execution_count": 156,
   "metadata": {},
   "outputs": [
    {
     "data": {
      "text/plain": [
       "CNT_FAM_MEMBERS           0.000007\n",
       "DAYS_LAST_PHONE_CHANGE    0.000003\n",
       "dtype: float64"
      ]
     },
     "execution_count": 156,
     "metadata": {},
     "output_type": "execute_result"
    }
   ],
   "source": [
    "# CHECKING WHAT COLUMNS HAVE NULL VALUES AGAIN\n",
    "temp = appdata.isnull().sum()/len(appdata)\n",
    "temp[temp != 0]"
   ]
  },
  {
   "cell_type": "code",
   "execution_count": 157,
   "metadata": {},
   "outputs": [
    {
     "data": {
      "text/plain": [
       "2.0     158357\n",
       "1.0      67847\n",
       "3.0      52601\n",
       "4.0      24697\n",
       "5.0       3478\n",
       "6.0        408\n",
       "7.0         81\n",
       "8.0         20\n",
       "9.0          6\n",
       "10.0         3\n",
       "14.0         2\n",
       "16.0         2\n",
       "12.0         2\n",
       "20.0         2\n",
       "11.0         1\n",
       "13.0         1\n",
       "15.0         1\n",
       "Name: CNT_FAM_MEMBERS, dtype: int64"
      ]
     },
     "execution_count": 157,
     "metadata": {},
     "output_type": "execute_result"
    }
   ],
   "source": [
    "# HANDLING CNT_FAM_MEMBERS COLUMN\n",
    "appdata['CNT_FAM_MEMBERS'].value_counts()"
   ]
  },
  {
   "cell_type": "code",
   "execution_count": 158,
   "metadata": {},
   "outputs": [
    {
     "data": {
      "text/plain": [
       "0"
      ]
     },
     "execution_count": 158,
     "metadata": {},
     "output_type": "execute_result"
    }
   ],
   "source": [
    "# USING MEDIAN FOR MISSING VALUE IMPUTATION\n",
    "appdata['CNT_FAM_MEMBERS'].fillna(appdata['CNT_FAM_MEMBERS'].median(),inplace = True)\n",
    "appdata['CNT_FAM_MEMBERS'].isnull().sum()"
   ]
  },
  {
   "cell_type": "code",
   "execution_count": 159,
   "metadata": {},
   "outputs": [
    {
     "data": {
      "text/plain": [
       "DAYS_LAST_PHONE_CHANGE    0.000003\n",
       "dtype: float64"
      ]
     },
     "execution_count": 159,
     "metadata": {},
     "output_type": "execute_result"
    }
   ],
   "source": [
    "# CHECKING WHAT COLUMNS HAVE NULL VALUES AGAIN\n",
    "temp = appdata.isnull().sum()/len(appdata)\n",
    "temp[temp != 0]"
   ]
  },
  {
   "cell_type": "code",
   "execution_count": 160,
   "metadata": {},
   "outputs": [
    {
     "data": {
      "text/plain": [
       "count    307510.000000\n",
       "mean       -962.858788\n",
       "std         826.808487\n",
       "min       -4292.000000\n",
       "25%       -1570.000000\n",
       "50%        -757.000000\n",
       "75%        -274.000000\n",
       "max           0.000000\n",
       "Name: DAYS_LAST_PHONE_CHANGE, dtype: float64"
      ]
     },
     "execution_count": 160,
     "metadata": {},
     "output_type": "execute_result"
    }
   ],
   "source": [
    "# HANDLING DAYS_LAST_PHONE_CHANGE COLUMN\n",
    "appdata['DAYS_LAST_PHONE_CHANGE'].describe()"
   ]
  },
  {
   "cell_type": "code",
   "execution_count": 161,
   "metadata": {},
   "outputs": [
    {
     "data": {
      "text/plain": [
       "0"
      ]
     },
     "execution_count": 161,
     "metadata": {},
     "output_type": "execute_result"
    }
   ],
   "source": [
    "# IMPUTING MISSING VALUES WITH MEDIAN\n",
    "appdata['DAYS_LAST_PHONE_CHANGE'].fillna(appdata['DAYS_LAST_PHONE_CHANGE'].median(),inplace = True)\n",
    "appdata['DAYS_LAST_PHONE_CHANGE'].isnull().sum()"
   ]
  },
  {
   "cell_type": "code",
   "execution_count": 162,
   "metadata": {},
   "outputs": [
    {
     "name": "stdout",
     "output_type": "stream",
     "text": [
      "<class 'pandas.core.frame.DataFrame'>\n",
      "RangeIndex: 307511 entries, 0 to 307510\n",
      "Data columns (total 52 columns):\n",
      " #   Column                      Non-Null Count   Dtype  \n",
      "---  ------                      --------------   -----  \n",
      " 0   SK_ID_CURR                  307511 non-null  int64  \n",
      " 1   TARGET                      307511 non-null  int64  \n",
      " 2   NAME_CONTRACT_TYPE          307511 non-null  object \n",
      " 3   CODE_GENDER                 307511 non-null  object \n",
      " 4   FLAG_OWN_CAR                307511 non-null  object \n",
      " 5   FLAG_OWN_REALTY             307511 non-null  object \n",
      " 6   CNT_CHILDREN                307511 non-null  int64  \n",
      " 7   AMT_INCOME_TOTAL            307511 non-null  float64\n",
      " 8   AMT_CREDIT                  307511 non-null  float64\n",
      " 9   AMT_ANNUITY                 307511 non-null  float64\n",
      " 10  AMT_GOODS_PRICE             307511 non-null  float64\n",
      " 11  NAME_INCOME_TYPE            307511 non-null  object \n",
      " 12  NAME_EDUCATION_TYPE         307511 non-null  object \n",
      " 13  NAME_FAMILY_STATUS          307511 non-null  object \n",
      " 14  NAME_HOUSING_TYPE           307511 non-null  object \n",
      " 15  DAYS_BIRTH                  307511 non-null  int64  \n",
      " 16  DAYS_EMPLOYED               307511 non-null  int64  \n",
      " 17  DAYS_REGISTRATION           307511 non-null  float64\n",
      " 18  DAYS_ID_PUBLISH             307511 non-null  int64  \n",
      " 19  CNT_FAM_MEMBERS             307511 non-null  float64\n",
      " 20  ORGANIZATION_TYPE           307511 non-null  object \n",
      " 21  OBS_30_CNT_SOCIAL_CIRCLE    307511 non-null  float64\n",
      " 22  DEF_30_CNT_SOCIAL_CIRCLE    307511 non-null  float64\n",
      " 23  OBS_60_CNT_SOCIAL_CIRCLE    307511 non-null  float64\n",
      " 24  DEF_60_CNT_SOCIAL_CIRCLE    307511 non-null  float64\n",
      " 25  DAYS_LAST_PHONE_CHANGE      307511 non-null  float64\n",
      " 26  FLAG_DOCUMENT_2             307511 non-null  int64  \n",
      " 27  FLAG_DOCUMENT_3             307511 non-null  int64  \n",
      " 28  FLAG_DOCUMENT_4             307511 non-null  int64  \n",
      " 29  FLAG_DOCUMENT_5             307511 non-null  int64  \n",
      " 30  FLAG_DOCUMENT_6             307511 non-null  int64  \n",
      " 31  FLAG_DOCUMENT_7             307511 non-null  int64  \n",
      " 32  FLAG_DOCUMENT_8             307511 non-null  int64  \n",
      " 33  FLAG_DOCUMENT_9             307511 non-null  int64  \n",
      " 34  FLAG_DOCUMENT_10            307511 non-null  int64  \n",
      " 35  FLAG_DOCUMENT_11            307511 non-null  int64  \n",
      " 36  FLAG_DOCUMENT_12            307511 non-null  int64  \n",
      " 37  FLAG_DOCUMENT_13            307511 non-null  int64  \n",
      " 38  FLAG_DOCUMENT_14            307511 non-null  int64  \n",
      " 39  FLAG_DOCUMENT_15            307511 non-null  int64  \n",
      " 40  FLAG_DOCUMENT_16            307511 non-null  int64  \n",
      " 41  FLAG_DOCUMENT_17            307511 non-null  int64  \n",
      " 42  FLAG_DOCUMENT_18            307511 non-null  int64  \n",
      " 43  FLAG_DOCUMENT_19            307511 non-null  int64  \n",
      " 44  FLAG_DOCUMENT_20            307511 non-null  int64  \n",
      " 45  FLAG_DOCUMENT_21            307511 non-null  int64  \n",
      " 46  AMT_REQ_CREDIT_BUREAU_HOUR  307511 non-null  float64\n",
      " 47  AMT_REQ_CREDIT_BUREAU_DAY   307511 non-null  float64\n",
      " 48  AMT_REQ_CREDIT_BUREAU_WEEK  307511 non-null  float64\n",
      " 49  AMT_REQ_CREDIT_BUREAU_MON   307511 non-null  float64\n",
      " 50  AMT_REQ_CREDIT_BUREAU_QRT   307511 non-null  float64\n",
      " 51  AMT_REQ_CREDIT_BUREAU_YEAR  307511 non-null  float64\n",
      "dtypes: float64(17), int64(26), object(9)\n",
      "memory usage: 122.0+ MB\n"
     ]
    }
   ],
   "source": [
    "appdata.info()"
   ]
  },
  {
   "cell_type": "markdown",
   "metadata": {},
   "source": [
    "### NULL VALUE ANALYSIS WHICH ARE IN DIFFERENT FORMAT"
   ]
  },
  {
   "cell_type": "code",
   "execution_count": 163,
   "metadata": {},
   "outputs": [
    {
     "data": {
      "text/plain": [
       "Business Entity Type 3    67992\n",
       "XNA                       55374\n",
       "Self-employed             38412\n",
       "Other                     16683\n",
       "Medicine                  11193\n",
       "Business Entity Type 2    10553\n",
       "Government                10404\n",
       "School                     8893\n",
       "Trade: type 7              7831\n",
       "Kindergarten               6880\n",
       "Construction               6721\n",
       "Business Entity Type 1     5984\n",
       "Transport: type 4          5398\n",
       "Trade: type 3              3492\n",
       "Industry: type 9           3368\n",
       "Industry: type 3           3278\n",
       "Security                   3247\n",
       "Housing                    2958\n",
       "Industry: type 11          2704\n",
       "Military                   2634\n",
       "Bank                       2507\n",
       "Agriculture                2454\n",
       "Police                     2341\n",
       "Transport: type 2          2204\n",
       "Postal                     2157\n",
       "Security Ministries        1974\n",
       "Trade: type 2              1900\n",
       "Restaurant                 1811\n",
       "Services                   1575\n",
       "University                 1327\n",
       "Industry: type 7           1307\n",
       "Transport: type 3          1187\n",
       "Industry: type 1           1039\n",
       "Hotel                       966\n",
       "Electricity                 950\n",
       "Industry: type 4            877\n",
       "Trade: type 6               631\n",
       "Industry: type 5            599\n",
       "Insurance                   597\n",
       "Telecom                     577\n",
       "Emergency                   560\n",
       "Industry: type 2            458\n",
       "Advertising                 429\n",
       "Realtor                     396\n",
       "Culture                     379\n",
       "Industry: type 12           369\n",
       "Trade: type 1               348\n",
       "Mobile                      317\n",
       "Legal Services              305\n",
       "Cleaning                    260\n",
       "Transport: type 1           201\n",
       "Industry: type 6            112\n",
       "Industry: type 10           109\n",
       "Religion                     85\n",
       "Industry: type 13            67\n",
       "Trade: type 4                64\n",
       "Trade: type 5                49\n",
       "Industry: type 8             24\n",
       "Name: ORGANIZATION_TYPE, dtype: int64"
      ]
     },
     "execution_count": 163,
     "metadata": {},
     "output_type": "execute_result"
    }
   ],
   "source": [
    "appdata['ORGANIZATION_TYPE'].value_counts()"
   ]
  },
  {
   "cell_type": "code",
   "execution_count": 164,
   "metadata": {},
   "outputs": [],
   "source": [
    "# WE CAN SEE THERE ARE NULL VALUES WHICH GO WITH THE NAME XNA\n",
    "# WE CANNOT IMPUTE IT WITH MODE AS THERE ARE LOT OF XNA IN THE DATA\n",
    "# BEST OPTION IS TO REMOVE IT\n",
    "appdata = appdata.drop(appdata[appdata['ORGANIZATION_TYPE'] == 'XNA'].index)"
   ]
  },
  {
   "cell_type": "code",
   "execution_count": 165,
   "metadata": {},
   "outputs": [
    {
     "data": {
      "text/plain": [
       "Business Entity Type 3    67992\n",
       "Self-employed             38412\n",
       "Other                     16683\n",
       "Medicine                  11193\n",
       "Business Entity Type 2    10553\n",
       "Government                10404\n",
       "School                     8893\n",
       "Trade: type 7              7831\n",
       "Kindergarten               6880\n",
       "Construction               6721\n",
       "Business Entity Type 1     5984\n",
       "Transport: type 4          5398\n",
       "Trade: type 3              3492\n",
       "Industry: type 9           3368\n",
       "Industry: type 3           3278\n",
       "Security                   3247\n",
       "Housing                    2958\n",
       "Industry: type 11          2704\n",
       "Military                   2634\n",
       "Bank                       2507\n",
       "Agriculture                2454\n",
       "Police                     2341\n",
       "Transport: type 2          2204\n",
       "Postal                     2157\n",
       "Security Ministries        1974\n",
       "Trade: type 2              1900\n",
       "Restaurant                 1811\n",
       "Services                   1575\n",
       "University                 1327\n",
       "Industry: type 7           1307\n",
       "Transport: type 3          1187\n",
       "Industry: type 1           1039\n",
       "Hotel                       966\n",
       "Electricity                 950\n",
       "Industry: type 4            877\n",
       "Trade: type 6               631\n",
       "Industry: type 5            599\n",
       "Insurance                   597\n",
       "Telecom                     577\n",
       "Emergency                   560\n",
       "Industry: type 2            458\n",
       "Advertising                 429\n",
       "Realtor                     396\n",
       "Culture                     379\n",
       "Industry: type 12           369\n",
       "Trade: type 1               348\n",
       "Mobile                      317\n",
       "Legal Services              305\n",
       "Cleaning                    260\n",
       "Transport: type 1           201\n",
       "Industry: type 6            112\n",
       "Industry: type 10           109\n",
       "Religion                     85\n",
       "Industry: type 13            67\n",
       "Trade: type 4                64\n",
       "Trade: type 5                49\n",
       "Industry: type 8             24\n",
       "Name: ORGANIZATION_TYPE, dtype: int64"
      ]
     },
     "execution_count": 165,
     "metadata": {},
     "output_type": "execute_result"
    }
   ],
   "source": [
    "appdata['ORGANIZATION_TYPE'].value_counts()"
   ]
  },
  {
   "cell_type": "code",
   "execution_count": 166,
   "metadata": {},
   "outputs": [
    {
     "data": {
      "text/plain": [
       "F      157177\n",
       "M       94956\n",
       "XNA         4\n",
       "Name: CODE_GENDER, dtype: int64"
      ]
     },
     "execution_count": 166,
     "metadata": {},
     "output_type": "execute_result"
    }
   ],
   "source": [
    "appdata['CODE_GENDER'].value_counts()"
   ]
  },
  {
   "cell_type": "code",
   "execution_count": 167,
   "metadata": {},
   "outputs": [],
   "source": [
    "# AS THERE ARE NULL VALUES WHICH GO WITH THE NAME XNA WE CAN IMPUTE IT WITH F AS NUMBER OF NULLS ARE LESS AND IT WONT AFFECT OUR  ANALSYIS\n",
    "appdata.loc[appdata['CODE_GENDER']=='XNA','CODE_GENDER']='F'"
   ]
  },
  {
   "cell_type": "code",
   "execution_count": 168,
   "metadata": {},
   "outputs": [
    {
     "data": {
      "text/plain": [
       "F    157181\n",
       "M     94956\n",
       "Name: CODE_GENDER, dtype: int64"
      ]
     },
     "execution_count": 168,
     "metadata": {},
     "output_type": "execute_result"
    }
   ],
   "source": [
    "appdata['CODE_GENDER'].value_counts()"
   ]
  },
  {
   "cell_type": "markdown",
   "metadata": {},
   "source": [
    "### TYPE CASTING VARIABLES"
   ]
  },
  {
   "cell_type": "code",
   "execution_count": 169,
   "metadata": {},
   "outputs": [],
   "source": [
    "columns = ['DAYS_ID_PUBLISH','DAYS_REGISTRATION','DAYS_EMPLOYED','DAYS_BIRTH','AMT_ANNUITY','AMT_CREDIT','AMT_INCOME_TOTAL',\n",
    "        'CNT_CHILDREN','TARGET']\n",
    "appdata[columns] = appdata[columns].apply(pd.to_numeric)"
   ]
  },
  {
   "cell_type": "markdown",
   "metadata": {},
   "source": [
    "### DATA IMBALANCE HANDLING FOR APPLICATION DATA"
   ]
  },
  {
   "cell_type": "code",
   "execution_count": 170,
   "metadata": {},
   "outputs": [
    {
     "data": {
      "text/plain": [
       "0    230302\n",
       "1     21835\n",
       "Name: TARGET, dtype: int64"
      ]
     },
     "execution_count": 170,
     "metadata": {},
     "output_type": "execute_result"
    }
   ],
   "source": [
    "# DATA IMBALANCE IS THERE AS THERE ARE VERY LESS DEFAULTERS THAN NON DEFAULTERS\n",
    "appdata['TARGET'].value_counts()"
   ]
  },
  {
   "cell_type": "code",
   "execution_count": 171,
   "metadata": {},
   "outputs": [
    {
     "data": {
      "image/png": "[encoded data removed]",
      "text/plain": [
       "<Figure size 432x288 with 1 Axes>"
      ]
     },
     "metadata": {},
     "output_type": "display_data"
    }
   ],
   "source": [
    "# PLOTTING A PIE CHART\n",
    "appdata['TARGET'].value_counts().plot.pie()\n",
    "plt.title('Distribution of Target variable')\n",
    "plt.show()"
   ]
  },
  {
   "cell_type": "code",
   "execution_count": 172,
   "metadata": {},
   "outputs": [
    {
     "data": {
      "image/png": "[encoded data removed]",
      "text/plain": [
       "<Figure size 432x288 with 1 Axes>"
      ]
     },
     "metadata": {
      "needs_background": "light"
     },
     "output_type": "display_data"
    }
   ],
   "source": [
    "# PLOTTING A COUNT PLOT\n",
    "sns.countplot(x ='TARGET', hue = \"CODE_GENDER\", data = appdata)\n",
    "plt.show()"
   ]
  },
  {
   "cell_type": "markdown",
   "metadata": {},
   "source": [
    "SO HERE WE CAN SEE THERE IS DATA IMBALANCE THAT NON DEFAULTERS ARE WAY WAY MORE THAN DEFAULTERS THEREFORE WE NEED TO HANDLE \n",
    "DATA IMBALANCE "
   ]
  },
  {
   "cell_type": "code",
   "execution_count": 173,
   "metadata": {},
   "outputs": [
    {
     "data": {
      "text/plain": [
       "10.547378062743302"
      ]
     },
     "execution_count": 173,
     "metadata": {},
     "output_type": "execute_result"
    }
   ],
   "source": [
    "# FINDING RATIO OF DATA IMBALANCE\n",
    "appdata['TARGET'].value_counts()[0]/appdata['TARGET'].value_counts()[1]"
   ]
  },
  {
   "cell_type": "code",
   "execution_count": 174,
   "metadata": {},
   "outputs": [
    {
     "data": {
      "text/plain": [
       "0    131010\n",
       "1     21835\n",
       "Name: TARGET, dtype: int64"
      ]
     },
     "execution_count": 174,
     "metadata": {},
     "output_type": "execute_result"
    }
   ],
   "source": [
    "# SINCE THE RATIO IS APPROXIMATELY 10:1 THIS IMBALANCE MIGHT AFFECT OUR ANALYSIS AS IT MAY BE BIASED TO NON DEFAULTERS.\n",
    "# THEREFORE WE CAN DO UNDER SAMPLING TO BRING DOWN THE RATIO TO 6:1\n",
    "num_rows_non_defaulters = appdata['TARGET'].value_counts()[1]*6\n",
    "temp_df1 = appdata[appdata['TARGET'] == 0]\n",
    "temp_df2 = appdata[appdata['TARGET'] == 1]\n",
    "temp_df1 = temp_df1.sample(n = num_rows_non_defaulters,random_state = 1)\n",
    "appdata = pd.concat([temp_df1,temp_df2])\n",
    "appdata['TARGET'].value_counts()"
   ]
  },
  {
   "cell_type": "markdown",
   "metadata": {},
   "source": [
    "### SEGMENTED UNIVARIATE ANALYSIS AND OUTLIER FINDING FOR APPLICATION DATA"
   ]
  },
  {
   "cell_type": "code",
   "execution_count": 175,
   "metadata": {},
   "outputs": [],
   "source": [
    "# BEFORE COMPARING DEFAULTERS AND NON DEFAULTERS WE HAVE TO CONVERT VALUE COUNTS TO PERCENTAGES \n",
    "# FOR PIE CHARTS IT IS BY DEFAULT CONVERTED TO PERCENTAGES\n",
    "# FOR BAR CHARTS WE HAVE TO CONVERT VALUE COUNTS TO PERCENTAGES"
   ]
  },
  {
   "cell_type": "code",
   "execution_count": 176,
   "metadata": {},
   "outputs": [],
   "source": [
    "appdata0 = appdata[appdata['TARGET'] == 0]\n",
    "appdata1 = appdata[appdata['TARGET'] == 1]"
   ]
  },
  {
   "cell_type": "code",
   "execution_count": 177,
   "metadata": {},
   "outputs": [
    {
     "data": {
      "image/png": "[encoded data removed]",
      "text/plain": [
       "<Figure size 432x288 with 1 Axes>"
      ]
     },
     "metadata": {},
     "output_type": "display_data"
    }
   ],
   "source": [
    "#PLOTTING A BAR PLOT FOR NAME_CONTRACT_TYPE IT IS UNDERSTOOD THAT THERE ARE MORE CASH LOANS THAN REVOLVING LOANS IN DATA\n",
    "appdata0['NAME_CONTRACT_TYPE'].value_counts().plot.pie()\n",
    "plt.ylabel('')\n",
    "plt.title('DISTRIBUTION OF NAME_CONTRACT_TYPE FOR TARGET 0')\n",
    "plt.show()"
   ]
  },
  {
   "cell_type": "markdown",
   "metadata": {},
   "source": [
    "THEREFORE THERE ARE MORE CASH LOANS THAN REVOLVING LOANS IN TARGET 0"
   ]
  },
  {
   "cell_type": "code",
   "execution_count": 178,
   "metadata": {},
   "outputs": [
    {
     "data": {
      "image/png": "[encoded data removed]",
      "text/plain": [
       "<Figure size 432x288 with 1 Axes>"
      ]
     },
     "metadata": {},
     "output_type": "display_data"
    }
   ],
   "source": [
    "#PLOTTING A BAR PLOT FOR NAME_CONTRACT_TYPE IT IS UNDERSTOOD THAT THERE ARE MORE CASH LOANS THAN REVOLVING LOANS IN DATA\n",
    "appdata1['NAME_CONTRACT_TYPE'].value_counts().plot.pie()\n",
    "plt.ylabel('')\n",
    "plt.title('DISTRIBUTION OF NAME_CONTRACT_TYPE FOR TARGET 1')\n",
    "plt.show()"
   ]
  },
  {
   "cell_type": "markdown",
   "metadata": {},
   "source": [
    "TREND IS SIMILAR TO THAT OF TARGET 0 BUT IN TARGET 1 THERE ARE LESS REVOLVING LOANS THAN THAT OF IN TARGET 0 IN OTHER WORDS<br> DEFAULTERS HAVE LESS NO OF REVOLVING TYPE LOANS THAN THAT OT NON DEFAULTERS <br>\n",
    "DEFAULTERS HAVE MORE NO OF CASH TYPE OF LOANS THAN THAT OF NON DEFAULTERS"
   ]
  },
  {
   "cell_type": "code",
   "execution_count": 179,
   "metadata": {},
   "outputs": [],
   "source": [
    "# Plotting Income type for non defaulters\n",
    "# Converting counts to percentages for comparing defaulters with non defaulters\n",
    "temp = appdata0['NAME_INCOME_TYPE'].value_counts()/sum(appdata0['NAME_INCOME_TYPE'].value_counts())\n",
    "temp = temp*100\n"
   ]
  },
  {
   "cell_type": "code",
   "execution_count": 180,
   "metadata": {},
   "outputs": [
    {
     "data": {
      "image/png": "[encoded data removed]",
      "text/plain": [
       "<Figure size 432x288 with 1 Axes>"
      ]
     },
     "metadata": {
      "needs_background": "light"
     },
     "output_type": "display_data"
    }
   ],
   "source": [
    "temp.plot.bar()\n",
    "plt.title('Distribution of INCOME_TYPE FOR TARGET 0')\n",
    "plt.show()"
   ]
  },
  {
   "cell_type": "markdown",
   "metadata": {},
   "source": [
    "FROM THIS WE CAN UNDERSTAND MORE WORKING PEOPLE APPLIED FOR LOAN ,THE NEXT COMES COMMERCIAL ASSOCIATE \n",
    "IT IS OBSERVED THAT MATERNITY LEAVE TYPE OF INCOME PEOPLE ARE APPLYING FOR LOAN THE LEAST"
   ]
  },
  {
   "cell_type": "code",
   "execution_count": 181,
   "metadata": {},
   "outputs": [],
   "source": [
    "# Plotting Income type for defaulters\n",
    "temp = appdata1['NAME_INCOME_TYPE'].value_counts()/sum(appdata1['NAME_INCOME_TYPE'].value_counts())\n",
    "temp = temp*100"
   ]
  },
  {
   "cell_type": "code",
   "execution_count": 182,
   "metadata": {
    "scrolled": true
   },
   "outputs": [
    {
     "data": {
      "image/png": "[encoded data removed]",
      "text/plain": [
       "<Figure size 360x216 with 1 Axes>"
      ]
     },
     "metadata": {
      "needs_background": "light"
     },
     "output_type": "display_data"
    }
   ],
   "source": [
    "plt.figure(figsize = (5,3))\n",
    "temp.plot.bar()\n",
    "plt.title('Distribution of INCOME_TYPE for TARGET 1')\n",
    "plt.ylabel('')\n",
    "plt.xticks(rotation = 90)\n",
    "plt.show()"
   ]
  },
  {
   "cell_type": "markdown",
   "metadata": {},
   "source": [
    "WHEN WE COMPARE BOTH PLOTS WE CAN SEE STUDENTS,PENSIONERS AND BUSINESS MEN ARE NOT THERE IN DEFAULTERS ,IT MEANS BUSINESS MEN AND STUDENTS IF GIVEN LOAN THEY WONT DEFAULT\n",
    "THERE IS NO COLUMN FOR PENSIONERS,STUDENT AND BUSINESS MAN LIKE THAT IN TARGET 0 PLOT WHICH MEANS PENSIONERS,STUDENTS AND BUSINESS MEN DONT HAVE PAYMENT DIFFICULTIES"
   ]
  },
  {
   "cell_type": "code",
   "execution_count": 183,
   "metadata": {},
   "outputs": [],
   "source": [
    "# Distirbution of education type for non defaulters\n",
    "# Converting counts to percentages for comparing defaulters and non defaulters\n",
    "temp = appdata0['NAME_EDUCATION_TYPE'].value_counts()/sum(appdata0['NAME_EDUCATION_TYPE'].value_counts())\n",
    "temp = temp*100"
   ]
  },
  {
   "cell_type": "code",
   "execution_count": 184,
   "metadata": {},
   "outputs": [
    {
     "data": {
      "image/png": "[encoded data removed]",
      "text/plain": [
       "<Figure size 432x288 with 1 Axes>"
      ]
     },
     "metadata": {
      "needs_background": "light"
     },
     "output_type": "display_data"
    }
   ],
   "source": [
    "temp.plot.bar()\n",
    "plt.title('Distribution of NAME_EDUCATION_TYPE for TARGET 0')\n",
    "plt.show()"
   ]
  },
  {
   "cell_type": "markdown",
   "metadata": {},
   "source": [
    "THEREFORE FROM THE ABOVE BAR PLOT WE CAN UNDERSTAND THAT SECONDARY EDUCATED,HIGHER EDUCATED PEOPLE APPLIED LOANS A LOT <br>\n",
    "INCOMPLETE HIGHER,LOWER SECONDARY,ACADEMIC DEGREE APPLIED LESS LOANS WHEN COMPARED TO OTHERS"
   ]
  },
  {
   "cell_type": "code",
   "execution_count": 185,
   "metadata": {},
   "outputs": [],
   "source": [
    "# Distirbution of education type for defaulters\n",
    "temp = appdata1['NAME_EDUCATION_TYPE'].value_counts()/sum(appdata1['NAME_EDUCATION_TYPE'].value_counts())\n",
    "temp = temp*100"
   ]
  },
  {
   "cell_type": "code",
   "execution_count": 186,
   "metadata": {},
   "outputs": [
    {
     "data": {
      "image/png": "[encoded data removed]",
      "text/plain": [
       "<Figure size 432x288 with 1 Axes>"
      ]
     },
     "metadata": {
      "needs_background": "light"
     },
     "output_type": "display_data"
    }
   ],
   "source": [
    "temp.plot.bar()\n",
    "plt.title('Distribution of NAME_EDUCATION_TYPE for TARGET 1')\n",
    "plt.show()"
   ]
  },
  {
   "cell_type": "markdown",
   "metadata": {},
   "source": [
    "UPON OBSERVING BOTH BAR PLOTS WE CAN SEE THAT BOTH ARE SIMILAR WITH RESPECT TO EDUCATION TYPE <br>\n",
    "HIGHER EDUCATION TYPE IS LITTLE BIT HIGHER IN NON DEFAULTERS THAN DEFAULTERS <br>\n",
    "SECONDARY EDUCATION TYPE IS LITTLE BIT HIGHER IN DEFAULTERS THAN DEFAULTERS <br>"
   ]
  },
  {
   "cell_type": "code",
   "execution_count": 187,
   "metadata": {},
   "outputs": [
    {
     "data": {
      "image/png": "[encoded data removed]",
      "text/plain": [
       "<Figure size 432x288 with 1 Axes>"
      ]
     },
     "metadata": {},
     "output_type": "display_data"
    }
   ],
   "source": [
    "# Plotting pie chart for family status for non defaulters\n",
    "appdata0['NAME_FAMILY_STATUS'].value_counts().plot.pie()\n",
    "plt.title('Distribution of NAME_FAMILY_STATUS for TARGET 0')\n",
    "plt.ylabel('')\n",
    "plt.show()"
   ]
  },
  {
   "cell_type": "markdown",
   "metadata": {},
   "source": [
    "FROM THE ABOVE PIE PLOT WE CAN UNDERSTAND THAT MARRIED PEOPLE,SINGLES APPLIED LOT MORE LOANS . <br>\n",
    "CIVIL MARRIAGE,SEPERATED,WIDOW APPLIED LESS"
   ]
  },
  {
   "cell_type": "code",
   "execution_count": 188,
   "metadata": {},
   "outputs": [
    {
     "data": {
      "image/png": "[encoded data removed]",
      "text/plain": [
       "<Figure size 432x288 with 1 Axes>"
      ]
     },
     "metadata": {},
     "output_type": "display_data"
    }
   ],
   "source": [
    "# Plotting pie chart for family status for defaulters\n",
    "appdata1['NAME_FAMILY_STATUS'].value_counts().plot.pie()\n",
    "plt.title('Distribution of NAME_FAMILY_STATUS for TARGET 1')\n",
    "plt.ylabel('')\n",
    "plt.show()"
   ]
  },
  {
   "cell_type": "markdown",
   "metadata": {},
   "source": [
    "UPON OBSERVING BOTH PLOTS WE CAN SEE TREND IS SIMILAR IN BOTH PLOTS <br>\n",
    "SINGLES PERCENTAGE IS LITTLE BIT HIGHER IN DEFAULTERS THAN NON DEFAULTERS <br>"
   ]
  },
  {
   "cell_type": "code",
   "execution_count": 189,
   "metadata": {},
   "outputs": [
    {
     "data": {
      "image/png": "[encoded data removed]",
      "text/plain": [
       "<Figure size 432x288 with 1 Axes>"
      ]
     },
     "metadata": {
      "needs_background": "light"
     },
     "output_type": "display_data"
    }
   ],
   "source": [
    "# Box plot for credit amount for non defaulters\n",
    "sns.boxplot(appdata0['AMT_CREDIT'])\n",
    "plt.title('Distribution of AMT_CREDIT FOR TARGET 0')\n",
    "plt.xticks(rotation = 90)\n",
    "plt.xlabel('')\n",
    "plt.show()"
   ]
  },
  {
   "cell_type": "markdown",
   "metadata": {},
   "source": [
    "FROM THE ABOVE BOXPLOT WE CAN SEE THERE ARE SOME OUTLIERS AS THERE ARE MANY DATA POINTS OUT SIDE THE WHISKERS OF BOX PLOT<br>\n",
    "WE CAN UNDERSTAND THAT SINCE FIRST QUARTILE IS LESSER THAN THIRD QUARTILE,IT SHOWS THAT MORE LOANS ARE APPLIED WHERE CREDIT AMOUNT IS BIGGER "
   ]
  },
  {
   "cell_type": "code",
   "execution_count": 190,
   "metadata": {},
   "outputs": [
    {
     "data": {
      "image/png": "[encoded data removed]",
      "text/plain": [
       "<Figure size 432x288 with 1 Axes>"
      ]
     },
     "metadata": {
      "needs_background": "light"
     },
     "output_type": "display_data"
    }
   ],
   "source": [
    "# Box plot for credit amount for defaulters\n",
    "\n",
    "sns.boxplot(appdata1['AMT_CREDIT'])\n",
    "plt.title('Distribution of AMT_CREDIT FOR TARGET 1')\n",
    "plt.xticks(rotation = 90)\n",
    "plt.xlabel('')\n",
    "plt.show()"
   ]
  },
  {
   "cell_type": "markdown",
   "metadata": {},
   "source": [
    "BOTH BOX PLOTS ARE REALLY SIMILAR TO EACH OTHER <br>\n",
    "UPON OBSERVING BOTH BOX PLOTS IT IS OBSERVED THAT BOTH HAVE OUTLIERS\n"
   ]
  },
  {
   "cell_type": "code",
   "execution_count": 191,
   "metadata": {},
   "outputs": [
    {
     "data": {
      "image/png": "[encoded data removed]",
      "text/plain": [
       "<Figure size 432x288 with 1 Axes>"
      ]
     },
     "metadata": {
      "needs_background": "light"
     },
     "output_type": "display_data"
    }
   ],
   "source": [
    "# Box plot for annuity amount for non defaulters\n",
    "\n",
    "sns.boxplot(appdata0['AMT_ANNUITY'])\n",
    "plt.title('Distribution of AMT_ANNUITY FOR TARGET 0')\n",
    "plt.xlabel('')\n",
    "plt.show()"
   ]
  },
  {
   "cell_type": "markdown",
   "metadata": {},
   "source": [
    "FROM THE ABOVE BOX PLOT WE CAN UNDERSTAND THAT FIRST QUARTILE IS BIGGER THAN THIRD QUARTILE ,THERFORE MORE ANNUITY CLIENTS ARE FROM FIRST QUARTILE <br>\n",
    "\n",
    "AND ALSO THIRD QUARTILE IS VERY SLIM ,MEANS VERY LESS ANNUITY CLIENTS FROM THIRD QUARTILE"
   ]
  },
  {
   "cell_type": "code",
   "execution_count": 192,
   "metadata": {},
   "outputs": [
    {
     "data": {
      "image/png": "[encoded data removed]",
      "text/plain": [
       "<Figure size 432x288 with 1 Axes>"
      ]
     },
     "metadata": {
      "needs_background": "light"
     },
     "output_type": "display_data"
    }
   ],
   "source": [
    "# Box plot for annuity amount for defaulters\n",
    "\n",
    "sns.boxplot(appdata1['AMT_ANNUITY'])\n",
    "plt.title('Distribution of AMT_ANNUITY FOR TARGET 1')\n",
    "plt.xlabel('')\n",
    "plt.show()"
   ]
  },
  {
   "cell_type": "markdown",
   "metadata": {},
   "source": [
    "FROM THE ABOVE TWO PLOTS WE CAN SEE BOTH ARE SIMILAR WITH RESPECT TO TRENDS <br>\n",
    "BOTH PLOTS HAVE OUTLIERS"
   ]
  },
  {
   "cell_type": "code",
   "execution_count": 193,
   "metadata": {
    "scrolled": true
   },
   "outputs": [
    {
     "data": {
      "image/png": "[encoded data removed]",
      "text/plain": [
       "<Figure size 432x288 with 1 Axes>"
      ]
     },
     "metadata": {
      "needs_background": "light"
     },
     "output_type": "display_data"
    }
   ],
   "source": [
    "# Box plot for goods price for non defaulters\n",
    "sns.boxplot(appdata0['AMT_GOODS_PRICE'])\n",
    "plt.xticks(rotation = 90)\n",
    "plt.title('Distribution of AMT_GOODS_PRICE FOR TARGET 0')\n",
    "plt.xlabel('')\n",
    "plt.show()"
   ]
  },
  {
   "cell_type": "markdown",
   "metadata": {},
   "source": [
    "THERE ARE OUTLIERS IN THE DISTRIBUTION <br>\n",
    "ALSO SINCE FIRST QUARTILE IS LESS THAN THIRD QUARTILE ,IT REFERS THAT PEOPLE GIVE MORE BIGGER PRICED GOODS TO GET LOAN "
   ]
  },
  {
   "cell_type": "code",
   "execution_count": 194,
   "metadata": {},
   "outputs": [
    {
     "data": {
      "image/png": "[encoded data removed]",
      "text/plain": [
       "<Figure size 432x288 with 1 Axes>"
      ]
     },
     "metadata": {
      "needs_background": "light"
     },
     "output_type": "display_data"
    }
   ],
   "source": [
    "# Box plot for goods price for defaulters\n",
    "sns.boxplot(appdata1['AMT_GOODS_PRICE'])\n",
    "plt.xticks(rotation = 90)\n",
    "plt.title('Distribution of AMT_GOODS_PRICE FOR TARGET 1')\n",
    "plt.xlabel('')\n",
    "plt.show()"
   ]
  },
  {
   "cell_type": "markdown",
   "metadata": {},
   "source": [
    "BOTH ARE SIMILAR IN TERMS OF HOW THEY ARE SPREADED IN BOX PLOT <br>\n",
    "BOTH PLOTS HAVE OUTLIERS"
   ]
  },
  {
   "cell_type": "code",
   "execution_count": 195,
   "metadata": {},
   "outputs": [
    {
     "data": {
      "image/png": "[encoded data removed]",
      "text/plain": [
       "<Figure size 432x288 with 1 Axes>"
      ]
     },
     "metadata": {
      "needs_background": "light"
     },
     "output_type": "display_data"
    }
   ],
   "source": [
    "# Box plot for income amount for non defaulters\n",
    "# FOR INCOME COLUMN THE VALUES ARE VERY LARGE THEREFORE WE TAKE A LOG OF THOSE VALUES TO MAKE ANALSYSIS ON THEM\n",
    "temp = np.log10(appdata0['AMT_INCOME_TOTAL'])\n",
    "sns.boxplot(temp)\n",
    "plt.xticks(rotation = 90)\n",
    "plt.title('Distribution of TOTAL INCOME FOR TARGET 0')\n",
    "plt.xlabel('')\n",
    "plt.show()"
   ]
  },
  {
   "cell_type": "markdown",
   "metadata": {},
   "source": [
    "FOR THE NON DEFAULTERS THERE ARE OUTLIERS. <br>\n",
    "FIRST QUARTILE IS BIGGER THAN THIRD QUARTILE I.E INCOME TYPES FROM FIRST QUARTILE APPLY LOANS MORE THAN FROM THE THIRD QUARTILE"
   ]
  },
  {
   "cell_type": "code",
   "execution_count": 196,
   "metadata": {},
   "outputs": [
    {
     "data": {
      "image/png": "[encoded data removed]",
      "text/plain": [
       "<Figure size 432x288 with 1 Axes>"
      ]
     },
     "metadata": {
      "needs_background": "light"
     },
     "output_type": "display_data"
    }
   ],
   "source": [
    "# Box plot for income amount for defaulters\n",
    "# FOR INCOME COLUMN THE VALUES ARE VERY LARGE THEREFORE WE TAKE A LOG OF THOSE VALUES TO MAKE ANALSYSIS ON THEM\n",
    "temp = np.log10(appdata1['AMT_INCOME_TOTAL'])\n",
    "sns.boxplot(temp)\n",
    "plt.xticks(rotation = 90)\n",
    "plt.title('Distribution of TOTAL INCOME FOR TARGET 1')\n",
    "plt.xlabel('')\n",
    "plt.show()"
   ]
  },
  {
   "cell_type": "markdown",
   "metadata": {},
   "source": [
    "BOTH PLOTS ARE SIMILAR <br>\n",
    "BUT THERE ARE OUTLIERS IN BOTH BOX PLOTS <br>\n"
   ]
  },
  {
   "cell_type": "markdown",
   "metadata": {},
   "source": [
    "## BEFORE GOING TO BIVARIATE ANALYSIS , MERGING APPLICATION DATA AND PREVIOUS APPLICATION DATA"
   ]
  },
  {
   "cell_type": "markdown",
   "metadata": {},
   "source": [
    "### READING DATA FOR PREVIOUS APPLICATION"
   ]
  },
  {
   "cell_type": "code",
   "execution_count": 197,
   "metadata": {},
   "outputs": [
    {
     "data": {
      "text/html": [
       "<div>\n",
       "<style scoped>\n",
       "    .dataframe tbody tr th:only-of-type {\n",
       "        vertical-align: middle;\n",
       "    }\n",
       "\n",
       "    .dataframe tbody tr th {\n",
       "        vertical-align: top;\n",
       "    }\n",
       "\n",
       "    .dataframe thead th {\n",
       "        text-align: right;\n",
       "    }\n",
       "</style>\n",
       "<table border=\"1\" class=\"dataframe\">\n",
       "  <thead>\n",
       "    <tr style=\"text-align: right;\">\n",
       "      <th></th>\n",
       "      <th>SK_ID_PREV</th>\n",
       "      <th>SK_ID_CURR</th>\n",
       "      <th>NAME_CONTRACT_TYPE</th>\n",
       "      <th>AMT_ANNUITY</th>\n",
       "      <th>AMT_APPLICATION</th>\n",
       "      <th>AMT_CREDIT</th>\n",
       "      <th>AMT_DOWN_PAYMENT</th>\n",
       "      <th>AMT_GOODS_PRICE</th>\n",
       "      <th>WEEKDAY_APPR_PROCESS_START</th>\n",
       "      <th>HOUR_APPR_PROCESS_START</th>\n",
       "      <th>...</th>\n",
       "      <th>NAME_SELLER_INDUSTRY</th>\n",
       "      <th>CNT_PAYMENT</th>\n",
       "      <th>NAME_YIELD_GROUP</th>\n",
       "      <th>PRODUCT_COMBINATION</th>\n",
       "      <th>DAYS_FIRST_DRAWING</th>\n",
       "      <th>DAYS_FIRST_DUE</th>\n",
       "      <th>DAYS_LAST_DUE_1ST_VERSION</th>\n",
       "      <th>DAYS_LAST_DUE</th>\n",
       "      <th>DAYS_TERMINATION</th>\n",
       "      <th>NFLAG_INSURED_ON_APPROVAL</th>\n",
       "    </tr>\n",
       "  </thead>\n",
       "  <tbody>\n",
       "    <tr>\n",
       "      <th>0</th>\n",
       "      <td>2030495</td>\n",
       "      <td>271877</td>\n",
       "      <td>Consumer loans</td>\n",
       "      <td>1730.430</td>\n",
       "      <td>17145.0</td>\n",
       "      <td>17145.0</td>\n",
       "      <td>0.0</td>\n",
       "      <td>17145.0</td>\n",
       "      <td>SATURDAY</td>\n",
       "      <td>15</td>\n",
       "      <td>...</td>\n",
       "      <td>Connectivity</td>\n",
       "      <td>12.0</td>\n",
       "      <td>middle</td>\n",
       "      <td>POS mobile with interest</td>\n",
       "      <td>365243.0</td>\n",
       "      <td>-42.0</td>\n",
       "      <td>300.0</td>\n",
       "      <td>-42.0</td>\n",
       "      <td>-37.0</td>\n",
       "      <td>0.0</td>\n",
       "    </tr>\n",
       "    <tr>\n",
       "      <th>1</th>\n",
       "      <td>2802425</td>\n",
       "      <td>108129</td>\n",
       "      <td>Cash loans</td>\n",
       "      <td>25188.615</td>\n",
       "      <td>607500.0</td>\n",
       "      <td>679671.0</td>\n",
       "      <td>NaN</td>\n",
       "      <td>607500.0</td>\n",
       "      <td>THURSDAY</td>\n",
       "      <td>11</td>\n",
       "      <td>...</td>\n",
       "      <td>XNA</td>\n",
       "      <td>36.0</td>\n",
       "      <td>low_action</td>\n",
       "      <td>Cash X-Sell: low</td>\n",
       "      <td>365243.0</td>\n",
       "      <td>-134.0</td>\n",
       "      <td>916.0</td>\n",
       "      <td>365243.0</td>\n",
       "      <td>365243.0</td>\n",
       "      <td>1.0</td>\n",
       "    </tr>\n",
       "    <tr>\n",
       "      <th>2</th>\n",
       "      <td>2523466</td>\n",
       "      <td>122040</td>\n",
       "      <td>Cash loans</td>\n",
       "      <td>15060.735</td>\n",
       "      <td>112500.0</td>\n",
       "      <td>136444.5</td>\n",
       "      <td>NaN</td>\n",
       "      <td>112500.0</td>\n",
       "      <td>TUESDAY</td>\n",
       "      <td>11</td>\n",
       "      <td>...</td>\n",
       "      <td>XNA</td>\n",
       "      <td>12.0</td>\n",
       "      <td>high</td>\n",
       "      <td>Cash X-Sell: high</td>\n",
       "      <td>365243.0</td>\n",
       "      <td>-271.0</td>\n",
       "      <td>59.0</td>\n",
       "      <td>365243.0</td>\n",
       "      <td>365243.0</td>\n",
       "      <td>1.0</td>\n",
       "    </tr>\n",
       "    <tr>\n",
       "      <th>3</th>\n",
       "      <td>2819243</td>\n",
       "      <td>176158</td>\n",
       "      <td>Cash loans</td>\n",
       "      <td>47041.335</td>\n",
       "      <td>450000.0</td>\n",
       "      <td>470790.0</td>\n",
       "      <td>NaN</td>\n",
       "      <td>450000.0</td>\n",
       "      <td>MONDAY</td>\n",
       "      <td>7</td>\n",
       "      <td>...</td>\n",
       "      <td>XNA</td>\n",
       "      <td>12.0</td>\n",
       "      <td>middle</td>\n",
       "      <td>Cash X-Sell: middle</td>\n",
       "      <td>365243.0</td>\n",
       "      <td>-482.0</td>\n",
       "      <td>-152.0</td>\n",
       "      <td>-182.0</td>\n",
       "      <td>-177.0</td>\n",
       "      <td>1.0</td>\n",
       "    </tr>\n",
       "    <tr>\n",
       "      <th>4</th>\n",
       "      <td>1784265</td>\n",
       "      <td>202054</td>\n",
       "      <td>Cash loans</td>\n",
       "      <td>31924.395</td>\n",
       "      <td>337500.0</td>\n",
       "      <td>404055.0</td>\n",
       "      <td>NaN</td>\n",
       "      <td>337500.0</td>\n",
       "      <td>THURSDAY</td>\n",
       "      <td>9</td>\n",
       "      <td>...</td>\n",
       "      <td>XNA</td>\n",
       "      <td>24.0</td>\n",
       "      <td>high</td>\n",
       "      <td>Cash Street: high</td>\n",
       "      <td>NaN</td>\n",
       "      <td>NaN</td>\n",
       "      <td>NaN</td>\n",
       "      <td>NaN</td>\n",
       "      <td>NaN</td>\n",
       "      <td>NaN</td>\n",
       "    </tr>\n",
       "  </tbody>\n",
       "</table>\n",
       "<p>5 rows × 37 columns</p>\n",
       "</div>"
      ],
      "text/plain": [
       "   SK_ID_PREV  SK_ID_CURR NAME_CONTRACT_TYPE  AMT_ANNUITY  AMT_APPLICATION  \\\n",
       "0     2030495      271877     Consumer loans     1730.430          17145.0   \n",
       "1     2802425      108129         Cash loans    25188.615         607500.0   \n",
       "2     2523466      122040         Cash loans    15060.735         112500.0   \n",
       "3     2819243      176158         Cash loans    47041.335         450000.0   \n",
       "4     1784265      202054         Cash loans    31924.395         337500.0   \n",
       "\n",
       "   AMT_CREDIT  AMT_DOWN_PAYMENT  AMT_GOODS_PRICE WEEKDAY_APPR_PROCESS_START  \\\n",
       "0     17145.0               0.0          17145.0                   SATURDAY   \n",
       "1    679671.0               NaN         607500.0                   THURSDAY   \n",
       "2    136444.5               NaN         112500.0                    TUESDAY   \n",
       "3    470790.0               NaN         450000.0                     MONDAY   \n",
       "4    404055.0               NaN         337500.0                   THURSDAY   \n",
       "\n",
       "   HOUR_APPR_PROCESS_START  ... NAME_SELLER_INDUSTRY  CNT_PAYMENT  \\\n",
       "0                       15  ...         Connectivity         12.0   \n",
       "1                       11  ...                  XNA         36.0   \n",
       "2                       11  ...                  XNA         12.0   \n",
       "3                        7  ...                  XNA         12.0   \n",
       "4                        9  ...                  XNA         24.0   \n",
       "\n",
       "   NAME_YIELD_GROUP       PRODUCT_COMBINATION  DAYS_FIRST_DRAWING  \\\n",
       "0            middle  POS mobile with interest            365243.0   \n",
       "1        low_action          Cash X-Sell: low            365243.0   \n",
       "2              high         Cash X-Sell: high            365243.0   \n",
       "3            middle       Cash X-Sell: middle            365243.0   \n",
       "4              high         Cash Street: high                 NaN   \n",
       "\n",
       "  DAYS_FIRST_DUE DAYS_LAST_DUE_1ST_VERSION  DAYS_LAST_DUE DAYS_TERMINATION  \\\n",
       "0          -42.0                     300.0          -42.0            -37.0   \n",
       "1         -134.0                     916.0       365243.0         365243.0   \n",
       "2         -271.0                      59.0       365243.0         365243.0   \n",
       "3         -482.0                    -152.0         -182.0           -177.0   \n",
       "4            NaN                       NaN            NaN              NaN   \n",
       "\n",
       "  NFLAG_INSURED_ON_APPROVAL  \n",
       "0                       0.0  \n",
       "1                       1.0  \n",
       "2                       1.0  \n",
       "3                       1.0  \n",
       "4                       NaN  \n",
       "\n",
       "[5 rows x 37 columns]"
      ]
     },
     "execution_count": 197,
     "metadata": {},
     "output_type": "execute_result"
    }
   ],
   "source": [
    "previousdata = pd.read_csv(r'D:\\Upgrad - PG diploma - datascience\\Course 1_Data toolkit\\Case study Loan\\DATA\\previous_application.csv')\n",
    "previousdata.head()"
   ]
  },
  {
   "cell_type": "markdown",
   "metadata": {},
   "source": [
    "### INSPECTING PREVIOUS APPLICATION DATA"
   ]
  },
  {
   "cell_type": "code",
   "execution_count": 198,
   "metadata": {},
   "outputs": [
    {
     "data": {
      "text/plain": [
       "(1670214, 37)"
      ]
     },
     "execution_count": 198,
     "metadata": {},
     "output_type": "execute_result"
    }
   ],
   "source": [
    "previousdata.shape"
   ]
  },
  {
   "cell_type": "code",
   "execution_count": 199,
   "metadata": {},
   "outputs": [
    {
     "data": {
      "text/html": [
       "<div>\n",
       "<style scoped>\n",
       "    .dataframe tbody tr th:only-of-type {\n",
       "        vertical-align: middle;\n",
       "    }\n",
       "\n",
       "    .dataframe tbody tr th {\n",
       "        vertical-align: top;\n",
       "    }\n",
       "\n",
       "    .dataframe thead th {\n",
       "        text-align: right;\n",
       "    }\n",
       "</style>\n",
       "<table border=\"1\" class=\"dataframe\">\n",
       "  <thead>\n",
       "    <tr style=\"text-align: right;\">\n",
       "      <th></th>\n",
       "      <th>SK_ID_PREV</th>\n",
       "      <th>SK_ID_CURR</th>\n",
       "      <th>AMT_ANNUITY</th>\n",
       "      <th>AMT_APPLICATION</th>\n",
       "      <th>AMT_CREDIT</th>\n",
       "      <th>AMT_DOWN_PAYMENT</th>\n",
       "      <th>AMT_GOODS_PRICE</th>\n",
       "      <th>HOUR_APPR_PROCESS_START</th>\n",
       "      <th>NFLAG_LAST_APPL_IN_DAY</th>\n",
       "      <th>RATE_DOWN_PAYMENT</th>\n",
       "      <th>...</th>\n",
       "      <th>RATE_INTEREST_PRIVILEGED</th>\n",
       "      <th>DAYS_DECISION</th>\n",
       "      <th>SELLERPLACE_AREA</th>\n",
       "      <th>CNT_PAYMENT</th>\n",
       "      <th>DAYS_FIRST_DRAWING</th>\n",
       "      <th>DAYS_FIRST_DUE</th>\n",
       "      <th>DAYS_LAST_DUE_1ST_VERSION</th>\n",
       "      <th>DAYS_LAST_DUE</th>\n",
       "      <th>DAYS_TERMINATION</th>\n",
       "      <th>NFLAG_INSURED_ON_APPROVAL</th>\n",
       "    </tr>\n",
       "  </thead>\n",
       "  <tbody>\n",
       "    <tr>\n",
       "      <th>count</th>\n",
       "      <td>1.670214e+06</td>\n",
       "      <td>1.670214e+06</td>\n",
       "      <td>1.297979e+06</td>\n",
       "      <td>1.670214e+06</td>\n",
       "      <td>1.670213e+06</td>\n",
       "      <td>7.743700e+05</td>\n",
       "      <td>1.284699e+06</td>\n",
       "      <td>1.670214e+06</td>\n",
       "      <td>1.670214e+06</td>\n",
       "      <td>774370.000000</td>\n",
       "      <td>...</td>\n",
       "      <td>5951.000000</td>\n",
       "      <td>1.670214e+06</td>\n",
       "      <td>1.670214e+06</td>\n",
       "      <td>1.297984e+06</td>\n",
       "      <td>997149.000000</td>\n",
       "      <td>997149.000000</td>\n",
       "      <td>997149.000000</td>\n",
       "      <td>997149.000000</td>\n",
       "      <td>997149.000000</td>\n",
       "      <td>997149.000000</td>\n",
       "    </tr>\n",
       "    <tr>\n",
       "      <th>mean</th>\n",
       "      <td>1.923089e+06</td>\n",
       "      <td>2.783572e+05</td>\n",
       "      <td>1.595512e+04</td>\n",
       "      <td>1.752339e+05</td>\n",
       "      <td>1.961140e+05</td>\n",
       "      <td>6.697402e+03</td>\n",
       "      <td>2.278473e+05</td>\n",
       "      <td>1.248418e+01</td>\n",
       "      <td>9.964675e-01</td>\n",
       "      <td>0.079637</td>\n",
       "      <td>...</td>\n",
       "      <td>0.773503</td>\n",
       "      <td>-8.806797e+02</td>\n",
       "      <td>3.139511e+02</td>\n",
       "      <td>1.605408e+01</td>\n",
       "      <td>342209.855039</td>\n",
       "      <td>13826.269337</td>\n",
       "      <td>33767.774054</td>\n",
       "      <td>76582.403064</td>\n",
       "      <td>81992.343838</td>\n",
       "      <td>0.332570</td>\n",
       "    </tr>\n",
       "    <tr>\n",
       "      <th>std</th>\n",
       "      <td>5.325980e+05</td>\n",
       "      <td>1.028148e+05</td>\n",
       "      <td>1.478214e+04</td>\n",
       "      <td>2.927798e+05</td>\n",
       "      <td>3.185746e+05</td>\n",
       "      <td>2.092150e+04</td>\n",
       "      <td>3.153966e+05</td>\n",
       "      <td>3.334028e+00</td>\n",
       "      <td>5.932963e-02</td>\n",
       "      <td>0.107823</td>\n",
       "      <td>...</td>\n",
       "      <td>0.100879</td>\n",
       "      <td>7.790997e+02</td>\n",
       "      <td>7.127443e+03</td>\n",
       "      <td>1.456729e+01</td>\n",
       "      <td>88916.115834</td>\n",
       "      <td>72444.869708</td>\n",
       "      <td>106857.034789</td>\n",
       "      <td>149647.415123</td>\n",
       "      <td>153303.516729</td>\n",
       "      <td>0.471134</td>\n",
       "    </tr>\n",
       "    <tr>\n",
       "      <th>min</th>\n",
       "      <td>1.000001e+06</td>\n",
       "      <td>1.000010e+05</td>\n",
       "      <td>0.000000e+00</td>\n",
       "      <td>0.000000e+00</td>\n",
       "      <td>0.000000e+00</td>\n",
       "      <td>-9.000000e-01</td>\n",
       "      <td>0.000000e+00</td>\n",
       "      <td>0.000000e+00</td>\n",
       "      <td>0.000000e+00</td>\n",
       "      <td>-0.000015</td>\n",
       "      <td>...</td>\n",
       "      <td>0.373150</td>\n",
       "      <td>-2.922000e+03</td>\n",
       "      <td>-1.000000e+00</td>\n",
       "      <td>0.000000e+00</td>\n",
       "      <td>-2922.000000</td>\n",
       "      <td>-2892.000000</td>\n",
       "      <td>-2801.000000</td>\n",
       "      <td>-2889.000000</td>\n",
       "      <td>-2874.000000</td>\n",
       "      <td>0.000000</td>\n",
       "    </tr>\n",
       "    <tr>\n",
       "      <th>25%</th>\n",
       "      <td>1.461857e+06</td>\n",
       "      <td>1.893290e+05</td>\n",
       "      <td>6.321780e+03</td>\n",
       "      <td>1.872000e+04</td>\n",
       "      <td>2.416050e+04</td>\n",
       "      <td>0.000000e+00</td>\n",
       "      <td>5.084100e+04</td>\n",
       "      <td>1.000000e+01</td>\n",
       "      <td>1.000000e+00</td>\n",
       "      <td>0.000000</td>\n",
       "      <td>...</td>\n",
       "      <td>0.715645</td>\n",
       "      <td>-1.300000e+03</td>\n",
       "      <td>-1.000000e+00</td>\n",
       "      <td>6.000000e+00</td>\n",
       "      <td>365243.000000</td>\n",
       "      <td>-1628.000000</td>\n",
       "      <td>-1242.000000</td>\n",
       "      <td>-1314.000000</td>\n",
       "      <td>-1270.000000</td>\n",
       "      <td>0.000000</td>\n",
       "    </tr>\n",
       "    <tr>\n",
       "      <th>50%</th>\n",
       "      <td>1.923110e+06</td>\n",
       "      <td>2.787145e+05</td>\n",
       "      <td>1.125000e+04</td>\n",
       "      <td>7.104600e+04</td>\n",
       "      <td>8.054100e+04</td>\n",
       "      <td>1.638000e+03</td>\n",
       "      <td>1.123200e+05</td>\n",
       "      <td>1.200000e+01</td>\n",
       "      <td>1.000000e+00</td>\n",
       "      <td>0.051605</td>\n",
       "      <td>...</td>\n",
       "      <td>0.835095</td>\n",
       "      <td>-5.810000e+02</td>\n",
       "      <td>3.000000e+00</td>\n",
       "      <td>1.200000e+01</td>\n",
       "      <td>365243.000000</td>\n",
       "      <td>-831.000000</td>\n",
       "      <td>-361.000000</td>\n",
       "      <td>-537.000000</td>\n",
       "      <td>-499.000000</td>\n",
       "      <td>0.000000</td>\n",
       "    </tr>\n",
       "    <tr>\n",
       "      <th>75%</th>\n",
       "      <td>2.384280e+06</td>\n",
       "      <td>3.675140e+05</td>\n",
       "      <td>2.065842e+04</td>\n",
       "      <td>1.803600e+05</td>\n",
       "      <td>2.164185e+05</td>\n",
       "      <td>7.740000e+03</td>\n",
       "      <td>2.340000e+05</td>\n",
       "      <td>1.500000e+01</td>\n",
       "      <td>1.000000e+00</td>\n",
       "      <td>0.108909</td>\n",
       "      <td>...</td>\n",
       "      <td>0.852537</td>\n",
       "      <td>-2.800000e+02</td>\n",
       "      <td>8.200000e+01</td>\n",
       "      <td>2.400000e+01</td>\n",
       "      <td>365243.000000</td>\n",
       "      <td>-411.000000</td>\n",
       "      <td>129.000000</td>\n",
       "      <td>-74.000000</td>\n",
       "      <td>-44.000000</td>\n",
       "      <td>1.000000</td>\n",
       "    </tr>\n",
       "    <tr>\n",
       "      <th>max</th>\n",
       "      <td>2.845382e+06</td>\n",
       "      <td>4.562550e+05</td>\n",
       "      <td>4.180581e+05</td>\n",
       "      <td>6.905160e+06</td>\n",
       "      <td>6.905160e+06</td>\n",
       "      <td>3.060045e+06</td>\n",
       "      <td>6.905160e+06</td>\n",
       "      <td>2.300000e+01</td>\n",
       "      <td>1.000000e+00</td>\n",
       "      <td>1.000000</td>\n",
       "      <td>...</td>\n",
       "      <td>1.000000</td>\n",
       "      <td>-1.000000e+00</td>\n",
       "      <td>4.000000e+06</td>\n",
       "      <td>8.400000e+01</td>\n",
       "      <td>365243.000000</td>\n",
       "      <td>365243.000000</td>\n",
       "      <td>365243.000000</td>\n",
       "      <td>365243.000000</td>\n",
       "      <td>365243.000000</td>\n",
       "      <td>1.000000</td>\n",
       "    </tr>\n",
       "  </tbody>\n",
       "</table>\n",
       "<p>8 rows × 21 columns</p>\n",
       "</div>"
      ],
      "text/plain": [
       "         SK_ID_PREV    SK_ID_CURR   AMT_ANNUITY  AMT_APPLICATION  \\\n",
       "count  1.670214e+06  1.670214e+06  1.297979e+06     1.670214e+06   \n",
       "mean   1.923089e+06  2.783572e+05  1.595512e+04     1.752339e+05   \n",
       "std    5.325980e+05  1.028148e+05  1.478214e+04     2.927798e+05   \n",
       "min    1.000001e+06  1.000010e+05  0.000000e+00     0.000000e+00   \n",
       "25%    1.461857e+06  1.893290e+05  6.321780e+03     1.872000e+04   \n",
       "50%    1.923110e+06  2.787145e+05  1.125000e+04     7.104600e+04   \n",
       "75%    2.384280e+06  3.675140e+05  2.065842e+04     1.803600e+05   \n",
       "max    2.845382e+06  4.562550e+05  4.180581e+05     6.905160e+06   \n",
       "\n",
       "         AMT_CREDIT  AMT_DOWN_PAYMENT  AMT_GOODS_PRICE  \\\n",
       "count  1.670213e+06      7.743700e+05     1.284699e+06   \n",
       "mean   1.961140e+05      6.697402e+03     2.278473e+05   \n",
       "std    3.185746e+05      2.092150e+04     3.153966e+05   \n",
       "min    0.000000e+00     -9.000000e-01     0.000000e+00   \n",
       "25%    2.416050e+04      0.000000e+00     5.084100e+04   \n",
       "50%    8.054100e+04      1.638000e+03     1.123200e+05   \n",
       "75%    2.164185e+05      7.740000e+03     2.340000e+05   \n",
       "max    6.905160e+06      3.060045e+06     6.905160e+06   \n",
       "\n",
       "       HOUR_APPR_PROCESS_START  NFLAG_LAST_APPL_IN_DAY  RATE_DOWN_PAYMENT  \\\n",
       "count             1.670214e+06            1.670214e+06      774370.000000   \n",
       "mean              1.248418e+01            9.964675e-01           0.079637   \n",
       "std               3.334028e+00            5.932963e-02           0.107823   \n",
       "min               0.000000e+00            0.000000e+00          -0.000015   \n",
       "25%               1.000000e+01            1.000000e+00           0.000000   \n",
       "50%               1.200000e+01            1.000000e+00           0.051605   \n",
       "75%               1.500000e+01            1.000000e+00           0.108909   \n",
       "max               2.300000e+01            1.000000e+00           1.000000   \n",
       "\n",
       "       ...  RATE_INTEREST_PRIVILEGED  DAYS_DECISION  SELLERPLACE_AREA  \\\n",
       "count  ...               5951.000000   1.670214e+06      1.670214e+06   \n",
       "mean   ...                  0.773503  -8.806797e+02      3.139511e+02   \n",
       "std    ...                  0.100879   7.790997e+02      7.127443e+03   \n",
       "min    ...                  0.373150  -2.922000e+03     -1.000000e+00   \n",
       "25%    ...                  0.715645  -1.300000e+03     -1.000000e+00   \n",
       "50%    ...                  0.835095  -5.810000e+02      3.000000e+00   \n",
       "75%    ...                  0.852537  -2.800000e+02      8.200000e+01   \n",
       "max    ...                  1.000000  -1.000000e+00      4.000000e+06   \n",
       "\n",
       "        CNT_PAYMENT  DAYS_FIRST_DRAWING  DAYS_FIRST_DUE  \\\n",
       "count  1.297984e+06       997149.000000   997149.000000   \n",
       "mean   1.605408e+01       342209.855039    13826.269337   \n",
       "std    1.456729e+01        88916.115834    72444.869708   \n",
       "min    0.000000e+00        -2922.000000    -2892.000000   \n",
       "25%    6.000000e+00       365243.000000    -1628.000000   \n",
       "50%    1.200000e+01       365243.000000     -831.000000   \n",
       "75%    2.400000e+01       365243.000000     -411.000000   \n",
       "max    8.400000e+01       365243.000000   365243.000000   \n",
       "\n",
       "       DAYS_LAST_DUE_1ST_VERSION  DAYS_LAST_DUE  DAYS_TERMINATION  \\\n",
       "count              997149.000000  997149.000000     997149.000000   \n",
       "mean                33767.774054   76582.403064      81992.343838   \n",
       "std                106857.034789  149647.415123     153303.516729   \n",
       "min                 -2801.000000   -2889.000000      -2874.000000   \n",
       "25%                 -1242.000000   -1314.000000      -1270.000000   \n",
       "50%                  -361.000000    -537.000000       -499.000000   \n",
       "75%                   129.000000     -74.000000        -44.000000   \n",
       "max                365243.000000  365243.000000     365243.000000   \n",
       "\n",
       "       NFLAG_INSURED_ON_APPROVAL  \n",
       "count              997149.000000  \n",
       "mean                    0.332570  \n",
       "std                     0.471134  \n",
       "min                     0.000000  \n",
       "25%                     0.000000  \n",
       "50%                     0.000000  \n",
       "75%                     1.000000  \n",
       "max                     1.000000  \n",
       "\n",
       "[8 rows x 21 columns]"
      ]
     },
     "execution_count": 199,
     "metadata": {},
     "output_type": "execute_result"
    }
   ],
   "source": [
    "previousdata.describe()"
   ]
  },
  {
   "cell_type": "markdown",
   "metadata": {},
   "source": [
    "### HANDLING MISSING VALUES IN PREVIOUS APPLICATION DATA"
   ]
  },
  {
   "cell_type": "code",
   "execution_count": 200,
   "metadata": {},
   "outputs": [
    {
     "data": {
      "text/plain": [
       "SK_ID_PREV                      0.00\n",
       "SK_ID_CURR                      0.00\n",
       "NAME_CONTRACT_TYPE              0.00\n",
       "AMT_ANNUITY                    22.29\n",
       "AMT_APPLICATION                 0.00\n",
       "AMT_CREDIT                      0.00\n",
       "AMT_DOWN_PAYMENT               53.64\n",
       "AMT_GOODS_PRICE                23.08\n",
       "WEEKDAY_APPR_PROCESS_START      0.00\n",
       "HOUR_APPR_PROCESS_START         0.00\n",
       "FLAG_LAST_APPL_PER_CONTRACT     0.00\n",
       "NFLAG_LAST_APPL_IN_DAY          0.00\n",
       "RATE_DOWN_PAYMENT              53.64\n",
       "RATE_INTEREST_PRIMARY          99.64\n",
       "RATE_INTEREST_PRIVILEGED       99.64\n",
       "NAME_CASH_LOAN_PURPOSE          0.00\n",
       "NAME_CONTRACT_STATUS            0.00\n",
       "DAYS_DECISION                   0.00\n",
       "NAME_PAYMENT_TYPE               0.00\n",
       "CODE_REJECT_REASON              0.00\n",
       "NAME_TYPE_SUITE                49.12\n",
       "NAME_CLIENT_TYPE                0.00\n",
       "NAME_GOODS_CATEGORY             0.00\n",
       "NAME_PORTFOLIO                  0.00\n",
       "NAME_PRODUCT_TYPE               0.00\n",
       "CHANNEL_TYPE                    0.00\n",
       "SELLERPLACE_AREA                0.00\n",
       "NAME_SELLER_INDUSTRY            0.00\n",
       "CNT_PAYMENT                    22.29\n",
       "NAME_YIELD_GROUP                0.00\n",
       "PRODUCT_COMBINATION             0.02\n",
       "DAYS_FIRST_DRAWING             40.30\n",
       "DAYS_FIRST_DUE                 40.30\n",
       "DAYS_LAST_DUE_1ST_VERSION      40.30\n",
       "DAYS_LAST_DUE                  40.30\n",
       "DAYS_TERMINATION               40.30\n",
       "NFLAG_INSURED_ON_APPROVAL      40.30\n",
       "dtype: float64"
      ]
     },
     "execution_count": 200,
     "metadata": {},
     "output_type": "execute_result"
    }
   ],
   "source": [
    "# CHECKING NULL VALUE PERCENTAGE\n",
    "temp = previousdata.isnull().sum()/len(previousdata)\n",
    "temp = temp*100\n",
    "round(temp,2)"
   ]
  },
  {
   "cell_type": "code",
   "execution_count": 201,
   "metadata": {},
   "outputs": [],
   "source": [
    "## REMOVING ALL COLUMNS WHICH HAVE NULL PERCENTAGE AS 30 OR GREATER THAN THAT\n",
    "drop_columns = ['NFLAG_INSURED_ON_APPROVAL','DAYS_TERMINATION','DAYS_LAST_DUE','DAYS_LAST_DUE_1ST_VERSION','DAYS_FIRST_DUE',\n",
    "               'DAYS_FIRST_DRAWING','NAME_TYPE_SUITE','RATE_INTEREST_PRIVILEGED','RATE_INTEREST_PRIMARY','RATE_DOWN_PAYMENT',\n",
    "               'AMT_DOWN_PAYMENT']\n",
    "previousdata.drop(drop_columns,axis = 1,inplace = True)"
   ]
  },
  {
   "cell_type": "code",
   "execution_count": 202,
   "metadata": {},
   "outputs": [
    {
     "data": {
      "text/plain": [
       "SK_ID_PREV                      0.00\n",
       "SK_ID_CURR                      0.00\n",
       "NAME_CONTRACT_TYPE              0.00\n",
       "AMT_ANNUITY                    22.29\n",
       "AMT_APPLICATION                 0.00\n",
       "AMT_CREDIT                      0.00\n",
       "AMT_GOODS_PRICE                23.08\n",
       "WEEKDAY_APPR_PROCESS_START      0.00\n",
       "HOUR_APPR_PROCESS_START         0.00\n",
       "FLAG_LAST_APPL_PER_CONTRACT     0.00\n",
       "NFLAG_LAST_APPL_IN_DAY          0.00\n",
       "NAME_CASH_LOAN_PURPOSE          0.00\n",
       "NAME_CONTRACT_STATUS            0.00\n",
       "DAYS_DECISION                   0.00\n",
       "NAME_PAYMENT_TYPE               0.00\n",
       "CODE_REJECT_REASON              0.00\n",
       "NAME_CLIENT_TYPE                0.00\n",
       "NAME_GOODS_CATEGORY             0.00\n",
       "NAME_PORTFOLIO                  0.00\n",
       "NAME_PRODUCT_TYPE               0.00\n",
       "CHANNEL_TYPE                    0.00\n",
       "SELLERPLACE_AREA                0.00\n",
       "NAME_SELLER_INDUSTRY            0.00\n",
       "CNT_PAYMENT                    22.29\n",
       "NAME_YIELD_GROUP                0.00\n",
       "PRODUCT_COMBINATION             0.02\n",
       "dtype: float64"
      ]
     },
     "execution_count": 202,
     "metadata": {},
     "output_type": "execute_result"
    }
   ],
   "source": [
    "temp = previousdata.isnull().sum()/len(previousdata)\n",
    "temp = temp*100\n",
    "round(temp,2)"
   ]
  },
  {
   "cell_type": "code",
   "execution_count": 203,
   "metadata": {},
   "outputs": [
    {
     "data": {
      "text/plain": [
       "0"
      ]
     },
     "execution_count": 203,
     "metadata": {},
     "output_type": "execute_result"
    }
   ],
   "source": [
    "#IMPUTING NULL VALUES OF AMT_ANNUITY IT WITH MEDIAN\n",
    "previousdata['AMT_ANNUITY'].fillna(previousdata['AMT_ANNUITY'].median(),inplace = True)\n",
    "previousdata['AMT_ANNUITY'].isnull().sum()"
   ]
  },
  {
   "cell_type": "code",
   "execution_count": 204,
   "metadata": {},
   "outputs": [
    {
     "data": {
      "text/plain": [
       "0"
      ]
     },
     "execution_count": 204,
     "metadata": {},
     "output_type": "execute_result"
    }
   ],
   "source": [
    "#IMPUTING NULL VALUES OF AMT_GOODS_PRICE IT WITH MEDIAN\n",
    "previousdata['AMT_GOODS_PRICE'].fillna(previousdata['AMT_GOODS_PRICE'].median(),inplace = True)\n",
    "previousdata['AMT_GOODS_PRICE'].isnull().sum()"
   ]
  },
  {
   "cell_type": "code",
   "execution_count": 205,
   "metadata": {},
   "outputs": [
    {
     "data": {
      "text/plain": [
       "0"
      ]
     },
     "execution_count": 205,
     "metadata": {},
     "output_type": "execute_result"
    }
   ],
   "source": [
    "#IMPUTING NULL VALUES OF CNT_PAYMENT IT WITH MEDIAN\n",
    "previousdata['CNT_PAYMENT'].fillna(previousdata['CNT_PAYMENT'].median(),inplace = True)\n",
    "previousdata['CNT_PAYMENT'].isnull().sum()"
   ]
  },
  {
   "cell_type": "code",
   "execution_count": 206,
   "metadata": {},
   "outputs": [
    {
     "name": "stdout",
     "output_type": "stream",
     "text": [
      "<class 'pandas.core.frame.DataFrame'>\n",
      "Int64Index: 693502 entries, 0 to 693501\n",
      "Data columns (total 77 columns):\n",
      " #   Column                       Non-Null Count   Dtype  \n",
      "---  ------                       --------------   -----  \n",
      " 0   SK_ID_CURR                   693502 non-null  int64  \n",
      " 1   TARGET                       693502 non-null  int64  \n",
      " 2   NAME_CONTRACT_TYPE_x         693502 non-null  object \n",
      " 3   CODE_GENDER                  693502 non-null  object \n",
      " 4   FLAG_OWN_CAR                 693502 non-null  object \n",
      " 5   FLAG_OWN_REALTY              693502 non-null  object \n",
      " 6   CNT_CHILDREN                 693502 non-null  int64  \n",
      " 7   AMT_INCOME_TOTAL             693502 non-null  float64\n",
      " 8   AMT_CREDIT_x                 693502 non-null  float64\n",
      " 9   AMT_ANNUITY_x                693502 non-null  float64\n",
      " 10  AMT_GOODS_PRICE_x            693502 non-null  float64\n",
      " 11  NAME_INCOME_TYPE             693502 non-null  object \n",
      " 12  NAME_EDUCATION_TYPE          693502 non-null  object \n",
      " 13  NAME_FAMILY_STATUS           693502 non-null  object \n",
      " 14  NAME_HOUSING_TYPE            693502 non-null  object \n",
      " 15  DAYS_BIRTH                   693502 non-null  int64  \n",
      " 16  DAYS_EMPLOYED                693502 non-null  int64  \n",
      " 17  DAYS_REGISTRATION            693502 non-null  float64\n",
      " 18  DAYS_ID_PUBLISH              693502 non-null  int64  \n",
      " 19  CNT_FAM_MEMBERS              693502 non-null  float64\n",
      " 20  ORGANIZATION_TYPE            693502 non-null  object \n",
      " 21  OBS_30_CNT_SOCIAL_CIRCLE     693502 non-null  float64\n",
      " 22  DEF_30_CNT_SOCIAL_CIRCLE     693502 non-null  float64\n",
      " 23  OBS_60_CNT_SOCIAL_CIRCLE     693502 non-null  float64\n",
      " 24  DEF_60_CNT_SOCIAL_CIRCLE     693502 non-null  float64\n",
      " 25  DAYS_LAST_PHONE_CHANGE       693502 non-null  float64\n",
      " 26  FLAG_DOCUMENT_2              693502 non-null  int64  \n",
      " 27  FLAG_DOCUMENT_3              693502 non-null  int64  \n",
      " 28  FLAG_DOCUMENT_4              693502 non-null  int64  \n",
      " 29  FLAG_DOCUMENT_5              693502 non-null  int64  \n",
      " 30  FLAG_DOCUMENT_6              693502 non-null  int64  \n",
      " 31  FLAG_DOCUMENT_7              693502 non-null  int64  \n",
      " 32  FLAG_DOCUMENT_8              693502 non-null  int64  \n",
      " 33  FLAG_DOCUMENT_9              693502 non-null  int64  \n",
      " 34  FLAG_DOCUMENT_10             693502 non-null  int64  \n",
      " 35  FLAG_DOCUMENT_11             693502 non-null  int64  \n",
      " 36  FLAG_DOCUMENT_12             693502 non-null  int64  \n",
      " 37  FLAG_DOCUMENT_13             693502 non-null  int64  \n",
      " 38  FLAG_DOCUMENT_14             693502 non-null  int64  \n",
      " 39  FLAG_DOCUMENT_15             693502 non-null  int64  \n",
      " 40  FLAG_DOCUMENT_16             693502 non-null  int64  \n",
      " 41  FLAG_DOCUMENT_17             693502 non-null  int64  \n",
      " 42  FLAG_DOCUMENT_18             693502 non-null  int64  \n",
      " 43  FLAG_DOCUMENT_19             693502 non-null  int64  \n",
      " 44  FLAG_DOCUMENT_20             693502 non-null  int64  \n",
      " 45  FLAG_DOCUMENT_21             693502 non-null  int64  \n",
      " 46  AMT_REQ_CREDIT_BUREAU_HOUR   693502 non-null  float64\n",
      " 47  AMT_REQ_CREDIT_BUREAU_DAY    693502 non-null  float64\n",
      " 48  AMT_REQ_CREDIT_BUREAU_WEEK   693502 non-null  float64\n",
      " 49  AMT_REQ_CREDIT_BUREAU_MON    693502 non-null  float64\n",
      " 50  AMT_REQ_CREDIT_BUREAU_QRT    693502 non-null  float64\n",
      " 51  AMT_REQ_CREDIT_BUREAU_YEAR   693502 non-null  float64\n",
      " 52  SK_ID_PREV                   693502 non-null  int64  \n",
      " 53  NAME_CONTRACT_TYPE_y         693502 non-null  object \n",
      " 54  AMT_ANNUITY_y                693502 non-null  float64\n",
      " 55  AMT_APPLICATION              693502 non-null  float64\n",
      " 56  AMT_CREDIT_y                 693502 non-null  float64\n",
      " 57  AMT_GOODS_PRICE_y            693502 non-null  float64\n",
      " 58  WEEKDAY_APPR_PROCESS_START   693502 non-null  object \n",
      " 59  HOUR_APPR_PROCESS_START      693502 non-null  int64  \n",
      " 60  FLAG_LAST_APPL_PER_CONTRACT  693502 non-null  object \n",
      " 61  NFLAG_LAST_APPL_IN_DAY       693502 non-null  int64  \n",
      " 62  NAME_CASH_LOAN_PURPOSE       693502 non-null  object \n",
      " 63  NAME_CONTRACT_STATUS         693502 non-null  object \n",
      " 64  DAYS_DECISION                693502 non-null  int64  \n",
      " 65  NAME_PAYMENT_TYPE            693502 non-null  object \n",
      " 66  CODE_REJECT_REASON           693502 non-null  object \n",
      " 67  NAME_CLIENT_TYPE             693502 non-null  object \n",
      " 68  NAME_GOODS_CATEGORY          693502 non-null  object \n",
      " 69  NAME_PORTFOLIO               693502 non-null  object \n",
      " 70  NAME_PRODUCT_TYPE            693502 non-null  object \n",
      " 71  CHANNEL_TYPE                 693502 non-null  object \n",
      " 72  SELLERPLACE_AREA             693502 non-null  int64  \n",
      " 73  NAME_SELLER_INDUSTRY         693502 non-null  object \n",
      " 74  CNT_PAYMENT                  693502 non-null  float64\n",
      " 75  NAME_YIELD_GROUP             693502 non-null  object \n",
      " 76  PRODUCT_COMBINATION          693320 non-null  object \n",
      "dtypes: float64(22), int64(31), object(24)\n",
      "memory usage: 412.7+ MB\n"
     ]
    }
   ],
   "source": [
    "# MERGING THE TWO DATA FRAMES \n",
    "totaldata = pd.merge(left = appdata,right = previousdata,how='inner',on='SK_ID_CURR')\n",
    "totaldata.info()"
   ]
  },
  {
   "cell_type": "code",
   "execution_count": 207,
   "metadata": {},
   "outputs": [],
   "source": [
    "# RENAMING COLUMNS FOR BETTER UNDERSTANDING\n",
    "totaldata = totaldata.rename({'NAME_CONTRACT_TYPE_x' : 'NAME_CONTRACT_TYPE','AMT_CREDIT_x':'AMT_CREDIT','AMT_ANNUITY_x':'AMT_ANNUITY',\n",
    "                         'AMT_GOODS_PRICE_x' : 'AMT_GOODS_PRICE',\n",
    "                         'NAME_CONTRACT_TYPE_y' : 'NAME_CONTRACT_TYPE_PREVIOUS','AMT_CREDIT_y':'AMT_CREDIT_PREVIOUS','AMT_ANNUITY_y':'AMT_ANNUITY_PREVIOUS',\n",
    "                         'AMT_GOODS_PRICE_y' : 'AMT_GOODS_PRICE_PREVIOUS'}, axis=1)"
   ]
  },
  {
   "cell_type": "code",
   "execution_count": 208,
   "metadata": {},
   "outputs": [],
   "source": [
    "# REMOVING UNNECESSARY COLUMNS\n",
    "drop_columns = ['WEEKDAY_APPR_PROCESS_START','HOUR_APPR_PROCESS_START','FLAG_LAST_APPL_PER_CONTRACT','NFLAG_LAST_APPL_IN_DAY']\n",
    "totaldata.drop(drop_columns,axis = 1,inplace = True)"
   ]
  },
  {
   "cell_type": "markdown",
   "metadata": {},
   "source": [
    "## SEGMENTED AND NORMAL BIVARIATE ANALSYIS"
   ]
  },
  {
   "cell_type": "code",
   "execution_count": 209,
   "metadata": {},
   "outputs": [
    {
     "data": {
      "image/png": "[encoded data removed]",
      "text/plain": [
       "<Figure size 432x288 with 2 Axes>"
      ]
     },
     "metadata": {
      "needs_background": "light"
     },
     "output_type": "display_data"
    }
   ],
   "source": [
    "# i DID SPEARMAN RANK METHOD BECOZ IT CAPTURES HOW TWO VARIABLES AFFECT EACH OTHER EVEN THOUGH THE DEPENDENCY IS NOT LINEAR\n",
    "# NORMAL PEARSON CORRELATION CAPTURES LINEAR RELATIONSHIPS ONLY WHICH MIGHT RESTRICT OUR ANALYSIS THEREFORE SPEARMAN IS USED\n",
    "temp = totaldata[totaldata['TARGET'] == 0][['CNT_CHILDREN','AMT_INCOME_TOTAL','AMT_CREDIT','AMT_ANNUITY','DAYS_BIRTH',\n",
    "                                            'DAYS_EMPLOYED','DAYS_REGISTRATION','DAYS_ID_PUBLISH','CNT_FAM_MEMBERS',\n",
    "                                          'DAYS_LAST_PHONE_CHANGE']]\n",
    "sns.heatmap(temp.corr(method = 'spearman'), cmap=\"RdYlGn\")\n",
    "plt.title('CORRELATION BETWEEN NUMERIC VARIABLES FOR NON DEFAULTERS')\n",
    "plt.show()"
   ]
  },
  {
   "cell_type": "code",
   "execution_count": 210,
   "metadata": {},
   "outputs": [
    {
     "data": {
      "text/html": [
       "<div>\n",
       "<style scoped>\n",
       "    .dataframe tbody tr th:only-of-type {\n",
       "        vertical-align: middle;\n",
       "    }\n",
       "\n",
       "    .dataframe tbody tr th {\n",
       "        vertical-align: top;\n",
       "    }\n",
       "\n",
       "    .dataframe thead th {\n",
       "        text-align: right;\n",
       "    }\n",
       "</style>\n",
       "<table border=\"1\" class=\"dataframe\">\n",
       "  <thead>\n",
       "    <tr style=\"text-align: right;\">\n",
       "      <th></th>\n",
       "      <th>VARIABLE_1</th>\n",
       "      <th>VARIABLE_2</th>\n",
       "      <th>CORRELATION</th>\n",
       "      <th>RELATION</th>\n",
       "    </tr>\n",
       "  </thead>\n",
       "  <tbody>\n",
       "    <tr>\n",
       "      <th>80</th>\n",
       "      <td>CNT_FAM_MEMBERS</td>\n",
       "      <td>CNT_CHILDREN</td>\n",
       "      <td>0.895901</td>\n",
       "      <td>POSITIVE</td>\n",
       "    </tr>\n",
       "    <tr>\n",
       "      <th>32</th>\n",
       "      <td>AMT_ANNUITY</td>\n",
       "      <td>AMT_CREDIT</td>\n",
       "      <td>0.748655</td>\n",
       "      <td>POSITIVE</td>\n",
       "    </tr>\n",
       "    <tr>\n",
       "      <th>31</th>\n",
       "      <td>AMT_ANNUITY</td>\n",
       "      <td>AMT_INCOME_TOTAL</td>\n",
       "      <td>0.424328</td>\n",
       "      <td>POSITIVE</td>\n",
       "    </tr>\n",
       "    <tr>\n",
       "      <th>21</th>\n",
       "      <td>AMT_CREDIT</td>\n",
       "      <td>AMT_INCOME_TOTAL</td>\n",
       "      <td>0.345656</td>\n",
       "      <td>POSITIVE</td>\n",
       "    </tr>\n",
       "    <tr>\n",
       "      <th>54</th>\n",
       "      <td>DAYS_EMPLOYED</td>\n",
       "      <td>DAYS_BIRTH</td>\n",
       "      <td>0.333489</td>\n",
       "      <td>POSITIVE</td>\n",
       "    </tr>\n",
       "    <tr>\n",
       "      <th>64</th>\n",
       "      <td>DAYS_REGISTRATION</td>\n",
       "      <td>DAYS_BIRTH</td>\n",
       "      <td>0.296192</td>\n",
       "      <td>POSITIVE</td>\n",
       "    </tr>\n",
       "    <tr>\n",
       "      <th>40</th>\n",
       "      <td>DAYS_BIRTH</td>\n",
       "      <td>CNT_CHILDREN</td>\n",
       "      <td>0.279163</td>\n",
       "      <td>POSITIVE</td>\n",
       "    </tr>\n",
       "    <tr>\n",
       "      <th>84</th>\n",
       "      <td>CNT_FAM_MEMBERS</td>\n",
       "      <td>DAYS_BIRTH</td>\n",
       "      <td>0.230553</td>\n",
       "      <td>POSITIVE</td>\n",
       "    </tr>\n",
       "    <tr>\n",
       "      <th>60</th>\n",
       "      <td>DAYS_REGISTRATION</td>\n",
       "      <td>CNT_CHILDREN</td>\n",
       "      <td>0.169748</td>\n",
       "      <td>POSITIVE</td>\n",
       "    </tr>\n",
       "    <tr>\n",
       "      <th>65</th>\n",
       "      <td>DAYS_REGISTRATION</td>\n",
       "      <td>DAYS_EMPLOYED</td>\n",
       "      <td>0.168354</td>\n",
       "      <td>POSITIVE</td>\n",
       "    </tr>\n",
       "  </tbody>\n",
       "</table>\n",
       "</div>"
      ],
      "text/plain": [
       "           VARIABLE_1        VARIABLE_2  CORRELATION  RELATION\n",
       "80    CNT_FAM_MEMBERS      CNT_CHILDREN     0.895901  POSITIVE\n",
       "32        AMT_ANNUITY        AMT_CREDIT     0.748655  POSITIVE\n",
       "31        AMT_ANNUITY  AMT_INCOME_TOTAL     0.424328  POSITIVE\n",
       "21         AMT_CREDIT  AMT_INCOME_TOTAL     0.345656  POSITIVE\n",
       "54      DAYS_EMPLOYED        DAYS_BIRTH     0.333489  POSITIVE\n",
       "64  DAYS_REGISTRATION        DAYS_BIRTH     0.296192  POSITIVE\n",
       "40         DAYS_BIRTH      CNT_CHILDREN     0.279163  POSITIVE\n",
       "84    CNT_FAM_MEMBERS        DAYS_BIRTH     0.230553  POSITIVE\n",
       "60  DAYS_REGISTRATION      CNT_CHILDREN     0.169748  POSITIVE\n",
       "65  DAYS_REGISTRATION     DAYS_EMPLOYED     0.168354  POSITIVE"
      ]
     },
     "execution_count": 210,
     "metadata": {},
     "output_type": "execute_result"
    }
   ],
   "source": [
    "# TOP 10 CORRELATIONS IN NON DEFAULTERS\n",
    "temp = totaldata[totaldata['TARGET'] == 0][['CNT_CHILDREN','AMT_INCOME_TOTAL','AMT_CREDIT','AMT_ANNUITY','DAYS_BIRTH',\n",
    "                                            'DAYS_EMPLOYED','DAYS_REGISTRATION','DAYS_ID_PUBLISH','CNT_FAM_MEMBERS',\n",
    "                                          'DAYS_LAST_PHONE_CHANGE']]\n",
    "# finding correlation matrix\n",
    "temp_corr = temp.corr()\n",
    "\n",
    "# finding boolean upper diagonal matrix i.e all upper diagonal elements of matrix being 1 and other elements as 0\n",
    "upper_diagonal_matrix = np.triu(np.ones(temp_corr.shape),k=1).astype(np.bool)\n",
    "\n",
    "# now using this boolean matrix we can find upper diagonal correlation matrix\n",
    "temp_corr = temp_corr.where(upper_diagonal_matrix).unstack().reset_index()\n",
    "\n",
    "# renaming columns \n",
    "temp_corr.columns = ['VARIABLE_1','VARIABLE_2','CORRELATION']\n",
    "\n",
    "# removing null values \n",
    "temp_corr = temp_corr.dropna(subset = ['CORRELATION'])\n",
    "\n",
    "# creating a new column RELATION which captures sign of the correlation i.e which captures whether relation is monotonically increasing or decreasing\n",
    "# if the sign is postitive then the variables are monotonically increasing if the sign is negative then the variables are monotonically decreasing\n",
    "temp_corr['RELATION'] = temp_corr['CORRELATION']\n",
    "temp_corr['RELATION'] = temp_corr['RELATION'].apply(lambda x : 'NEGATIVE' if x <0 else 'POSITIVE')\n",
    "\n",
    "\n",
    "# since we already captured sign calculating absolute value of correlations\n",
    "temp_corr['CORRELATION'] = abs(temp_corr['CORRELATION'])\n",
    "\n",
    "# sorting correlations in decreasing order and finding top 10\n",
    "temp_corr = temp_corr.sort_values(by = 'CORRELATION',ascending = False).head(10)\n",
    "\n",
    "temp_corr\n"
   ]
  },
  {
   "cell_type": "code",
   "execution_count": 211,
   "metadata": {},
   "outputs": [
    {
     "data": {
      "image/png": "[encoded data removed]",
      "text/plain": [
       "<Figure size 432x288 with 2 Axes>"
      ]
     },
     "metadata": {
      "needs_background": "light"
     },
     "output_type": "display_data"
    }
   ],
   "source": [
    "temp = totaldata[totaldata['TARGET'] == 1][['CNT_CHILDREN','AMT_INCOME_TOTAL','AMT_CREDIT','AMT_ANNUITY','DAYS_BIRTH',\n",
    "                                            'DAYS_EMPLOYED','DAYS_REGISTRATION','DAYS_ID_PUBLISH','CNT_FAM_MEMBERS',\n",
    "                                          'DAYS_LAST_PHONE_CHANGE']]\n",
    "sns.heatmap(temp.corr(method = 'spearman'), cmap=\"RdYlGn\")\n",
    "plt.title('CORRELATION BETWEEN NUMERIC VARIABLES FOR DEFAULTERS')\n",
    "plt.show()"
   ]
  },
  {
   "cell_type": "code",
   "execution_count": 212,
   "metadata": {},
   "outputs": [
    {
     "data": {
      "text/html": [
       "<div>\n",
       "<style scoped>\n",
       "    .dataframe tbody tr th:only-of-type {\n",
       "        vertical-align: middle;\n",
       "    }\n",
       "\n",
       "    .dataframe tbody tr th {\n",
       "        vertical-align: top;\n",
       "    }\n",
       "\n",
       "    .dataframe thead th {\n",
       "        text-align: right;\n",
       "    }\n",
       "</style>\n",
       "<table border=\"1\" class=\"dataframe\">\n",
       "  <thead>\n",
       "    <tr style=\"text-align: right;\">\n",
       "      <th></th>\n",
       "      <th>VARIABLE_1</th>\n",
       "      <th>VARIABLE_2</th>\n",
       "      <th>CORRELATION</th>\n",
       "      <th>RELATION</th>\n",
       "    </tr>\n",
       "  </thead>\n",
       "  <tbody>\n",
       "    <tr>\n",
       "      <th>80</th>\n",
       "      <td>CNT_FAM_MEMBERS</td>\n",
       "      <td>CNT_CHILDREN</td>\n",
       "      <td>0.895919</td>\n",
       "      <td>POSITIVE</td>\n",
       "    </tr>\n",
       "    <tr>\n",
       "      <th>32</th>\n",
       "      <td>AMT_ANNUITY</td>\n",
       "      <td>AMT_CREDIT</td>\n",
       "      <td>0.739689</td>\n",
       "      <td>POSITIVE</td>\n",
       "    </tr>\n",
       "    <tr>\n",
       "      <th>54</th>\n",
       "      <td>DAYS_EMPLOYED</td>\n",
       "      <td>DAYS_BIRTH</td>\n",
       "      <td>0.292894</td>\n",
       "      <td>POSITIVE</td>\n",
       "    </tr>\n",
       "    <tr>\n",
       "      <th>64</th>\n",
       "      <td>DAYS_REGISTRATION</td>\n",
       "      <td>DAYS_BIRTH</td>\n",
       "      <td>0.238782</td>\n",
       "      <td>POSITIVE</td>\n",
       "    </tr>\n",
       "    <tr>\n",
       "      <th>40</th>\n",
       "      <td>DAYS_BIRTH</td>\n",
       "      <td>CNT_CHILDREN</td>\n",
       "      <td>0.217488</td>\n",
       "      <td>POSITIVE</td>\n",
       "    </tr>\n",
       "    <tr>\n",
       "      <th>42</th>\n",
       "      <td>DAYS_BIRTH</td>\n",
       "      <td>AMT_CREDIT</td>\n",
       "      <td>0.176947</td>\n",
       "      <td>NEGATIVE</td>\n",
       "    </tr>\n",
       "    <tr>\n",
       "      <th>94</th>\n",
       "      <td>DAYS_LAST_PHONE_CHANGE</td>\n",
       "      <td>DAYS_BIRTH</td>\n",
       "      <td>0.170118</td>\n",
       "      <td>POSITIVE</td>\n",
       "    </tr>\n",
       "    <tr>\n",
       "      <th>95</th>\n",
       "      <td>DAYS_LAST_PHONE_CHANGE</td>\n",
       "      <td>DAYS_EMPLOYED</td>\n",
       "      <td>0.165773</td>\n",
       "      <td>POSITIVE</td>\n",
       "    </tr>\n",
       "    <tr>\n",
       "      <th>84</th>\n",
       "      <td>CNT_FAM_MEMBERS</td>\n",
       "      <td>DAYS_BIRTH</td>\n",
       "      <td>0.157711</td>\n",
       "      <td>POSITIVE</td>\n",
       "    </tr>\n",
       "    <tr>\n",
       "      <th>65</th>\n",
       "      <td>DAYS_REGISTRATION</td>\n",
       "      <td>DAYS_EMPLOYED</td>\n",
       "      <td>0.142984</td>\n",
       "      <td>POSITIVE</td>\n",
       "    </tr>\n",
       "  </tbody>\n",
       "</table>\n",
       "</div>"
      ],
      "text/plain": [
       "                VARIABLE_1     VARIABLE_2  CORRELATION  RELATION\n",
       "80         CNT_FAM_MEMBERS   CNT_CHILDREN     0.895919  POSITIVE\n",
       "32             AMT_ANNUITY     AMT_CREDIT     0.739689  POSITIVE\n",
       "54           DAYS_EMPLOYED     DAYS_BIRTH     0.292894  POSITIVE\n",
       "64       DAYS_REGISTRATION     DAYS_BIRTH     0.238782  POSITIVE\n",
       "40              DAYS_BIRTH   CNT_CHILDREN     0.217488  POSITIVE\n",
       "42              DAYS_BIRTH     AMT_CREDIT     0.176947  NEGATIVE\n",
       "94  DAYS_LAST_PHONE_CHANGE     DAYS_BIRTH     0.170118  POSITIVE\n",
       "95  DAYS_LAST_PHONE_CHANGE  DAYS_EMPLOYED     0.165773  POSITIVE\n",
       "84         CNT_FAM_MEMBERS     DAYS_BIRTH     0.157711  POSITIVE\n",
       "65       DAYS_REGISTRATION  DAYS_EMPLOYED     0.142984  POSITIVE"
      ]
     },
     "execution_count": 212,
     "metadata": {},
     "output_type": "execute_result"
    }
   ],
   "source": [
    "# TOP 10 CORRELATIONS IN DEFAULTERS\n",
    "temp = totaldata[totaldata['TARGET'] == 1][['CNT_CHILDREN','AMT_INCOME_TOTAL','AMT_CREDIT','AMT_ANNUITY','DAYS_BIRTH',\n",
    "                                            'DAYS_EMPLOYED','DAYS_REGISTRATION','DAYS_ID_PUBLISH','CNT_FAM_MEMBERS',\n",
    "                                          'DAYS_LAST_PHONE_CHANGE']]\n",
    "# finding correlation matrix\n",
    "temp_corr = temp.corr()\n",
    "\n",
    "# finding boolean upper diagonal matrix i.e all upper diagonal elements of matrix being 1 and other elements as 0\n",
    "upper_diagonal_matrix = np.triu(np.ones(temp_corr.shape),k=1).astype(np.bool)\n",
    "\n",
    "# now using this boolean matrix we can find upper diagonal correlation matrix\n",
    "temp_corr = temp_corr.where(upper_diagonal_matrix).unstack().reset_index()\n",
    "\n",
    "# renaming columns \n",
    "temp_corr.columns = ['VARIABLE_1','VARIABLE_2','CORRELATION']\n",
    "\n",
    "# removing null values \n",
    "temp_corr = temp_corr.dropna(subset = ['CORRELATION'])\n",
    "\n",
    "# creating a new column RELATION which captures sign of the correlation i.e which captures whether relation is monotonically increasing or decreasing\n",
    "# if the sign is postitive then the variables are monotonically increasing if the sign is negative then the variables are monotonically decreasing\n",
    "temp_corr['RELATION'] = temp_corr['CORRELATION']\n",
    "temp_corr['RELATION'] = temp_corr['RELATION'].apply(lambda x : 'NEGATIVE' if x <0 else 'POSITIVE')\n",
    "\n",
    "\n",
    "# since we already captured sign calculating absolute value of correlations\n",
    "temp_corr['CORRELATION'] = abs(temp_corr['CORRELATION'])\n",
    "\n",
    "# sorting correlations in decreasing order and finding top 10\n",
    "temp_corr = temp_corr.sort_values(by = 'CORRELATION',ascending = False).head(10)\n",
    "\n",
    "temp_corr\n"
   ]
  },
  {
   "cell_type": "markdown",
   "metadata": {},
   "source": [
    "FROM THE ABOVE TWO HEAT MAPS WE OBSERVE SOME DIFFERENCES\n",
    "\n",
    "1-THE INVERSE PROPORTIONALITY IN COUNT OF CHILDREN VS TOTAL INCOME IS HIGHER IN DEFAULTERS THAN THAT OF NON DEFAULTERS WHICH SHOWS THAT IF THERE IS HIGH DEGREE OF INVERSE PROPORTIONALITY IN COUNT OF CHILDREN VS TOTAL INCOME THEN THE CLIENT IS VERY LIKELY TO DEFAULT\n",
    "\n",
    "2-THE INVERSE PROPORTIONALITY IN COUNT OF CHILDREN VS TOTAL CREDIT IS HIGHER IN DEFAULTERS THAN THAT OF NON DEFAULTERS WHICH SHOWS THAT IF THERE IS HIGH DEGREE OF INVERSE PROPORTIONALITY IN COUNT OF CHILDREN VS TOTAL CREDIT THEN THE CLIENT IS VERY LIKELY TO DEFAULT\n",
    "\n",
    "3-THE INVERSE PROPORTIONALITY IN COUNT OF CHILDREN VS ANNUITY IS HIGHER IN DEFAULTERS THAN THAT OF NON DEFAULTERS WHICH SHOWS THAT IF THERE IS HIGH DEGREE OF INVERSE PROPORTIONALITY IN COUNT OF CHILDREN VS ANNUITY THEN THE CLIENT IS VERY LIKELY TO DEFAULT\n",
    "\n",
    "4-THE INVERSE PROPORTIONALITY IN INCOME VS CREDIT IS HIGHER IN DEFAULTERS THAN THAT OF NON DEFAULTERS WHICH MEANS THAT IF THERE IS HIGH DEGREE OF INVERSE PROPORTIONALITY IN INCOME VS CREDIT AMOUNT THEN THERE IS HIGH CHANCE THAT CLIENT MAY DEFAULT\n",
    "\n",
    "5-THE INVERSE PROPORTIONALITY IN INCOME VS ANNUITY MEANS IN DEFAULTERS AS INCOME IS MORE THEIR INVESTMENTS RETURN PER ANNUM IS LESS.ALSO IT IS SHADED LIGHTLY GREEN IN NON DEFAULTERS WHICH SHOWS THAT FOR NON DEFAULTERS AS INCOME INCREASES THEIR INVESTMENT RETURN ALSO INCREASE \n",
    "\n",
    "6-THE INVERSE PROPORTIONALITY IN INCOME VS DAYS OF BIRTH IS HIGHER IN DEFAULTERS THAN THAT OF NON DEFAULTERS WHICH SHOWS THAT IF THERE IS HIGH DEGREE OF INVERSE PROPORTIONALITY IN INCOME VS DAYS OF BIRTH THEN IT IS LIKELY THAT THE CLIENT MAY DEFAULT\n",
    "\n",
    "7-THE INVERSE PROPORTIONALITY IN INCOME VS DAYS BEFORE APPLICATION WHERE PHONE IS CHANGED IS HIGHER IN DEFAULTERS THAN THAT OF NON DEFAULTERS WHICH SHOWS THAT IF THERE IS HIGH DEGREE OF INVERSE PROPORTIONALITY IN INCOME VS NO OF DAYS BEFORE APPLICATION WHERE PHONE IS CHANGED THEN THERE IS HIGHER CHANCE OF THE CLIENT TO DEFAULT\n",
    "\n",
    "8-THE INVERSE PROPORTIONALITY IN CREDIT VS DAYS OF BIRTH IS HIGHER IN DEFAULTERS THAN THAT OF NON DEFAULTERS WHICH SHOWS THAT IF THERE IS HIGH DEGREE OF INVERSE PROPORTIONALITY IN CREDIT AMOUNT VS DAYS OF BIRTH THEN IT IS LIKELY THAT THE CLIENT MAY DEFAULT\n",
    "\n",
    "9-THE INVERSE PROPORTIONALITY IN DAYS EMPLOYED VS ANNUITY IS HIGHER IN DEFAULTERS THAN THAT OF NON DEFAULTERS WHICH SHOWS THAT IF THERE IS HIGH DEGREE OF INVERSE PROPORTIONALITY IN NO OF DAYS CLIENT HAS BEEN EMPLOYED VS THE INVESTMENTS RETURNS CLIENT IS GETTING PER ANNUM THEN IT IS LIKELY THAT THE CLIENT MAY DEFAULT\n",
    "\n",
    "10-THE INVERSE PROPORTIONALITY IN CNT FAMILY NUMBERS VS NO DAYS BEFORE WHICH PHONE IS CHANGED IS HIGHER IN DEFAULTERS THAN THAT OF NON DEFAULTERS WHICH SHOWS THAT IF THERE IS HIGH DEGREE OF INVERSE PROPORTIONALITY IN COUNT OF FAMILY NUMBERS VS NO OF DAYS BEFORE WHICH PHONE IS CHANGED THEN IT IS LIKELY THAT CLIENT MAY DEFAULT"
   ]
  },
  {
   "cell_type": "code",
   "execution_count": 213,
   "metadata": {},
   "outputs": [],
   "source": [
    "# DISTRIBUTION OF LOAN PURPOSE WITH CONTRACT STATUS\n",
    "# BEFORE GOING INTO THE ANALYSIS THERE ARE SOME NULL VALUES IN DISTRIBUTION OF LOAN PURPOSE WHICH GO BY THE NAME XAP,XNA SO IT MIGHT AFFECT OUR ANALYSIS\n",
    "# THEREFORE DROPPING ALL THOSE ROWS\n",
    "totaldata = totaldata.drop(totaldata[totaldata['NAME_CASH_LOAN_PURPOSE']=='XNA'].index)\n",
    "totaldata = totaldata.drop(totaldata[totaldata['NAME_CASH_LOAN_PURPOSE']=='XAP'].index)"
   ]
  },
  {
   "cell_type": "code",
   "execution_count": 214,
   "metadata": {
    "scrolled": false
   },
   "outputs": [
    {
     "data": {
      "image/png": "[encoded data removed]",
      "text/plain": [
       "<Figure size 720x1440 with 1 Axes>"
      ]
     },
     "metadata": {
      "needs_background": "light"
     },
     "output_type": "display_data"
    }
   ],
   "source": [
    "# Using lograthmic scale for better visualisation\n",
    "plt.figure(figsize = (10,20))\n",
    "plt.xscale('log')\n",
    "plt.title('Distribution of Loan Purpose with Contract Status')\n",
    "sns.countplot(y=totaldata['NAME_CASH_LOAN_PURPOSE'],hue = totaldata['NAME_CONTRACT_STATUS'],order = totaldata['NAME_CASH_LOAN_PURPOSE'].value_counts().index)\n",
    "plt.show()"
   ]
  },
  {
   "cell_type": "markdown",
   "metadata": {},
   "source": [
    "1- PURPOSES OF LOAN LIKE REPAIRS,URGENT NEEDS,BUYING A USED CAR,EVERY DAY EXPENSES AND MEDICINE HAVE BEEN THE MOST APPROVED\n",
    "\n",
    "2- PURPOSES OF LOAN LIKE REFUSAL TO NAME THE GOAL,MONEY FOR THIRD PERSON,HOBBY ,BUYYING GARAGE HAVE BEEN THE LEAST APPROVED\n",
    "\n",
    "3- FOR EDUCATION AND JOURNEY PURPOSE LOANS WERE BOTH EQUALLY APPROVED AND REJECTED\n",
    "\n",
    "4- PAYING FOR OTHERS AND REPAIRS HAS THE HIGHEST NUMBER OF REJECTIONS\n",
    "\n",
    "5- PURCHASE OF ELECTRONIC EQUIPMENT HAS LEAST NUMBER OF CANCELLATIONS"
   ]
  },
  {
   "cell_type": "code",
   "execution_count": 215,
   "metadata": {},
   "outputs": [
    {
     "data": {
      "image/png": "[encoded data removed]",
      "text/plain": [
       "<Figure size 1080x504 with 1 Axes>"
      ]
     },
     "metadata": {
      "needs_background": "light"
     },
     "output_type": "display_data"
    }
   ],
   "source": [
    "# Distribution of channel type wuth contract status \n",
    "# Using lograthmic scale for better visualisation\n",
    "plt.figure(figsize = (15,7))\n",
    "plt.title('Distribution of Channel tye with contract status')\n",
    "plt.xscale('log')\n",
    "\n",
    "sns.countplot(y = totaldata['CHANNEL_TYPE'],hue = totaldata['NAME_CONTRACT_STATUS'],order = totaldata['CHANNEL_TYPE'].value_counts().index)\n",
    "plt.show()"
   ]
  },
  {
   "cell_type": "markdown",
   "metadata": {},
   "source": [
    "1- UPON OBSERVING THE PLOT CLIENTS WHO ARE CONTACTED THROUGH CREDIT AND CASH OFFICES,COUNTRY WIDE CHANNELS,AP+ CASH LOANS HAVE HIGHEST NUMBER OF APPROVALS FOR LOANS\n",
    "\n",
    "2- HIGHEST NUMBER OF CANCELLATIONS ARE GIVEN TO CLIENTS WHO HAVE BEEN CONTACTED THROUGH CREDIT AND CASH OFFICES"
   ]
  },
  {
   "cell_type": "code",
   "execution_count": 216,
   "metadata": {},
   "outputs": [
    {
     "data": {
      "image/png": "[encoded data removed]",
      "text/plain": [
       "<Figure size 720x720 with 1 Axes>"
      ]
     },
     "metadata": {
      "needs_background": "light"
     },
     "output_type": "display_data"
    }
   ],
   "source": [
    "# Distribution of Cash loan purpose with target\n",
    "# Using lograthmic scale for better visualisation\n",
    "plt.figure(figsize = (10,10))\n",
    "plt.xscale('log')\n",
    "plt.title('Distribution of Cash loan purpose with target')\n",
    "sns.countplot(y= totaldata['NAME_CASH_LOAN_PURPOSE'],order=totaldata['NAME_CASH_LOAN_PURPOSE'].value_counts().index,hue = totaldata['TARGET'])\n",
    "plt.show()"
   ]
  },
  {
   "cell_type": "markdown",
   "metadata": {},
   "source": [
    "1- REPAIRS,PAYING OTHER LOANS,URGENT NEEDS HAVE HIGHEST NUMBER OF DEFAULTERS\n",
    "\n",
    "2- DEFAULTING RATE IS SMILAR IN BUYING A USED CAR AND BUILDING A HOME CATEOGRY\n",
    "\n",
    "3- FOR BUYING A NEW CAR PURPOSE RATIO OF NON DEFAULTERS TO DEFAULTERS IS MORE THAN ANY OTHER CATEGORY"
   ]
  },
  {
   "cell_type": "code",
   "execution_count": 217,
   "metadata": {},
   "outputs": [
    {
     "data": {
      "image/png": "[encoded data removed]",
      "text/plain": [
       "<Figure size 432x288 with 1 Axes>"
      ]
     },
     "metadata": {},
     "output_type": "display_data"
    }
   ],
   "source": [
    "# CHECKING HOW DIFFERENT GENDER RESPONDS TO CONTRACT TYPE\n",
    "totaldata[totaldata['CODE_GENDER']=='M']['NAME_CONTRACT_TYPE'].value_counts().plot.pie()\n",
    "plt.title('Distribution of Contract type for Males')\n",
    "plt.ylabel('')\n",
    "plt.show()"
   ]
  },
  {
   "cell_type": "code",
   "execution_count": 218,
   "metadata": {},
   "outputs": [
    {
     "data": {
      "image/png": "[encoded data removed]",
      "text/plain": [
       "<Figure size 432x288 with 1 Axes>"
      ]
     },
     "metadata": {},
     "output_type": "display_data"
    }
   ],
   "source": [
    "totaldata[totaldata['CODE_GENDER']=='F']['NAME_CONTRACT_TYPE'].value_counts().plot.pie()\n",
    "plt.title('Distribution of Contract type for Females')\n",
    "plt.ylabel('')\n",
    "plt.show()"
   ]
  },
  {
   "cell_type": "markdown",
   "metadata": {},
   "source": [
    "AS OBSERVING BOTH WE CAN INFER THAT BOTH GENDERS PREFER CASH TYPE OF LOANS OVER REVOLVING LOANS"
   ]
  },
  {
   "cell_type": "code",
   "execution_count": 219,
   "metadata": {},
   "outputs": [],
   "source": [
    "# FINDING DERIVED METRICS FOR DEEPER ANALYSIS\n",
    "# CREATING BINS FOR INCOME AND STORING THE RANGES IN A SEPERATE COLUMN CALLED INCOME RANGE\n",
    "income_range_label = ['0-25000', '25000-50000','50000-75000','75000-100000','100000-125000', '125000-150000', '150000-175000','175000-200000',\n",
    "       '200000-225000','225000-250000','250000-275000','275000-300000','300000-325000','325000-350000','350000-375000',\n",
    "       '375000-400000','400000-425000','425000-450000','450000-475000','475000-500000','500000 and above']\n",
    "\n",
    "income_range_bins = [0,25000,50000,75000,100000,125000,150000,175000,200000,225000,250000,275000,300000,325000,350000,375000,400000,425000,450000,475000,500000,10000000000]\n",
    "\n",
    "\n",
    "totaldata['INCOME_RANGE']=pd.cut(totaldata['AMT_INCOME_TOTAL'],income_range_bins,labels=income_range_label)"
   ]
  },
  {
   "cell_type": "code",
   "execution_count": 220,
   "metadata": {},
   "outputs": [],
   "source": [
    "# CREATING BINS FOR CREDIT AND STORING THE RANGES IN A SEPERATE COLUMN CALLED CREDIT RANGE\n",
    "credit_range_label = ['0-50000','50000-150000','150000-200000','200000-250000', '250000-300000', '300000-350000', '350000-400000','400000-450000',\n",
    "        '450000-500000','500000-550000','550000-600000','600000-650000','650000-700000','700000-750000','750000-800000',\n",
    "        '800000-850000','850000-900000','900000-950000','950000 and above']\n",
    "\n",
    "credit_range_bins = [0,50000,150000,200000,250000,300000,350000,400000,450000,500000,550000,600000,650000,700000,750000,800000,850000,900000,950000,1000000000]\n",
    "\n",
    "totaldata['CREDIT_RANGE']=pd.cut(totaldata['AMT_CREDIT'],credit_range_bins,labels=credit_range_label)"
   ]
  },
  {
   "cell_type": "code",
   "execution_count": 221,
   "metadata": {},
   "outputs": [
    {
     "data": {
      "image/png": "[encoded data removed]",
      "text/plain": [
       "<Figure size 1080x360 with 1 Axes>"
      ]
     },
     "metadata": {
      "needs_background": "light"
     },
     "output_type": "display_data"
    }
   ],
   "source": [
    "# Distribution of income range with gender for non defaulters\n",
    "# Using lograthmic scale for better visualisation\n",
    "plt.figure(figsize = (15,5))\n",
    "plt.xticks(rotation = 90)\n",
    "plt.yscale('log')\n",
    "plt.title('Distirbution of income range with gender for non defaulters')\n",
    "sns.countplot(totaldata[totaldata['TARGET'] == 0]['INCOME_RANGE'],hue = totaldata[totaldata['TARGET'] == 0]['CODE_GENDER'],order = totaldata[totaldata['TARGET'] == 0]['INCOME_RANGE'].value_counts().index)\n",
    "plt.show()"
   ]
  },
  {
   "cell_type": "markdown",
   "metadata": {},
   "source": [
    "1- COUNTS OF MALE IS LESSER THAN FEMALES IN MOST OF THE INCOME RANGES\n",
    "\n",
    "2- THERE ARE NO CLIENTS IN RANGE OF INCOME 0-25000\n",
    "\n",
    "3- THERE ARE MORE MALES THAN FEMALES IN INCOME RANGES : 500000 AND ABOVE,425000-450000,400000-425000,375000-400000"
   ]
  },
  {
   "cell_type": "code",
   "execution_count": 222,
   "metadata": {},
   "outputs": [
    {
     "data": {
      "image/png": "[encoded data removed]",
      "text/plain": [
       "<Figure size 1080x360 with 1 Axes>"
      ]
     },
     "metadata": {
      "needs_background": "light"
     },
     "output_type": "display_data"
    }
   ],
   "source": [
    "# Distribution of income range with gender for defaulters\n",
    "# Using lograthmic scale for better visualisation\n",
    "plt.figure(figsize = (15,5))\n",
    "plt.xticks(rotation = 90)\n",
    "plt.yscale('log')\n",
    "plt.title('Distirbution of income range with gender for defaulters')\n",
    "sns.countplot(totaldata[totaldata['TARGET'] == 1]['INCOME_RANGE'],hue = totaldata[totaldata['TARGET'] == 1]['CODE_GENDER'],order = totaldata[totaldata['TARGET'] == 1]['INCOME_RANGE'].value_counts().index)\n",
    "plt.show()"
   ]
  },
  {
   "cell_type": "markdown",
   "metadata": {},
   "source": [
    "1- IN CONTRAST TO THE NON DEFAULTERS HERE MOST OF THE COLUMNS HAVE MALE COUNTS HIGHER THAN FEMALES \n",
    "\n",
    "2- THERE ARE NO CLIENTS IN 0-25000 RANGE\n",
    "\n",
    "3- IN DEFAULTERS IT IS OBSERVED THAT 450000-475000,475000-500000,50000-75000,75000-100000 INCOME RANGES HAVE FEMALES MORE IN NUMBER THAN MALES "
   ]
  },
  {
   "cell_type": "code",
   "execution_count": 223,
   "metadata": {},
   "outputs": [
    {
     "name": "stdout",
     "output_type": "stream",
     "text": [
      "<class 'pandas.core.frame.DataFrame'>\n",
      "Int64Index: 32357 entries, 60 to 693486\n",
      "Data columns (total 75 columns):\n",
      " #   Column                       Non-Null Count  Dtype   \n",
      "---  ------                       --------------  -----   \n",
      " 0   SK_ID_CURR                   32357 non-null  int64   \n",
      " 1   TARGET                       32357 non-null  int64   \n",
      " 2   NAME_CONTRACT_TYPE           32357 non-null  object  \n",
      " 3   CODE_GENDER                  32357 non-null  object  \n",
      " 4   FLAG_OWN_CAR                 32357 non-null  object  \n",
      " 5   FLAG_OWN_REALTY              32357 non-null  object  \n",
      " 6   CNT_CHILDREN                 32357 non-null  int64   \n",
      " 7   AMT_INCOME_TOTAL             32357 non-null  float64 \n",
      " 8   AMT_CREDIT                   32357 non-null  float64 \n",
      " 9   AMT_ANNUITY                  32357 non-null  float64 \n",
      " 10  AMT_GOODS_PRICE              32357 non-null  float64 \n",
      " 11  NAME_INCOME_TYPE             32357 non-null  object  \n",
      " 12  NAME_EDUCATION_TYPE          32357 non-null  object  \n",
      " 13  NAME_FAMILY_STATUS           32357 non-null  object  \n",
      " 14  NAME_HOUSING_TYPE            32357 non-null  object  \n",
      " 15  DAYS_BIRTH                   32357 non-null  int64   \n",
      " 16  DAYS_EMPLOYED                32357 non-null  int64   \n",
      " 17  DAYS_REGISTRATION            32357 non-null  float64 \n",
      " 18  DAYS_ID_PUBLISH              32357 non-null  int64   \n",
      " 19  CNT_FAM_MEMBERS              32357 non-null  float64 \n",
      " 20  ORGANIZATION_TYPE            32357 non-null  object  \n",
      " 21  OBS_30_CNT_SOCIAL_CIRCLE     32357 non-null  float64 \n",
      " 22  DEF_30_CNT_SOCIAL_CIRCLE     32357 non-null  float64 \n",
      " 23  OBS_60_CNT_SOCIAL_CIRCLE     32357 non-null  float64 \n",
      " 24  DEF_60_CNT_SOCIAL_CIRCLE     32357 non-null  float64 \n",
      " 25  DAYS_LAST_PHONE_CHANGE       32357 non-null  float64 \n",
      " 26  FLAG_DOCUMENT_2              32357 non-null  int64   \n",
      " 27  FLAG_DOCUMENT_3              32357 non-null  int64   \n",
      " 28  FLAG_DOCUMENT_4              32357 non-null  int64   \n",
      " 29  FLAG_DOCUMENT_5              32357 non-null  int64   \n",
      " 30  FLAG_DOCUMENT_6              32357 non-null  int64   \n",
      " 31  FLAG_DOCUMENT_7              32357 non-null  int64   \n",
      " 32  FLAG_DOCUMENT_8              32357 non-null  int64   \n",
      " 33  FLAG_DOCUMENT_9              32357 non-null  int64   \n",
      " 34  FLAG_DOCUMENT_10             32357 non-null  int64   \n",
      " 35  FLAG_DOCUMENT_11             32357 non-null  int64   \n",
      " 36  FLAG_DOCUMENT_12             32357 non-null  int64   \n",
      " 37  FLAG_DOCUMENT_13             32357 non-null  int64   \n",
      " 38  FLAG_DOCUMENT_14             32357 non-null  int64   \n",
      " 39  FLAG_DOCUMENT_15             32357 non-null  int64   \n",
      " 40  FLAG_DOCUMENT_16             32357 non-null  int64   \n",
      " 41  FLAG_DOCUMENT_17             32357 non-null  int64   \n",
      " 42  FLAG_DOCUMENT_18             32357 non-null  int64   \n",
      " 43  FLAG_DOCUMENT_19             32357 non-null  int64   \n",
      " 44  FLAG_DOCUMENT_20             32357 non-null  int64   \n",
      " 45  FLAG_DOCUMENT_21             32357 non-null  int64   \n",
      " 46  AMT_REQ_CREDIT_BUREAU_HOUR   32357 non-null  float64 \n",
      " 47  AMT_REQ_CREDIT_BUREAU_DAY    32357 non-null  float64 \n",
      " 48  AMT_REQ_CREDIT_BUREAU_WEEK   32357 non-null  float64 \n",
      " 49  AMT_REQ_CREDIT_BUREAU_MON    32357 non-null  float64 \n",
      " 50  AMT_REQ_CREDIT_BUREAU_QRT    32357 non-null  float64 \n",
      " 51  AMT_REQ_CREDIT_BUREAU_YEAR   32357 non-null  float64 \n",
      " 52  SK_ID_PREV                   32357 non-null  int64   \n",
      " 53  NAME_CONTRACT_TYPE_PREVIOUS  32357 non-null  object  \n",
      " 54  AMT_ANNUITY_PREVIOUS         32357 non-null  float64 \n",
      " 55  AMT_APPLICATION              32357 non-null  float64 \n",
      " 56  AMT_CREDIT_PREVIOUS          32357 non-null  float64 \n",
      " 57  AMT_GOODS_PRICE_PREVIOUS     32357 non-null  float64 \n",
      " 58  NAME_CASH_LOAN_PURPOSE       32357 non-null  object  \n",
      " 59  NAME_CONTRACT_STATUS         32357 non-null  object  \n",
      " 60  DAYS_DECISION                32357 non-null  int64   \n",
      " 61  NAME_PAYMENT_TYPE            32357 non-null  object  \n",
      " 62  CODE_REJECT_REASON           32357 non-null  object  \n",
      " 63  NAME_CLIENT_TYPE             32357 non-null  object  \n",
      " 64  NAME_GOODS_CATEGORY          32357 non-null  object  \n",
      " 65  NAME_PORTFOLIO               32357 non-null  object  \n",
      " 66  NAME_PRODUCT_TYPE            32357 non-null  object  \n",
      " 67  CHANNEL_TYPE                 32357 non-null  object  \n",
      " 68  SELLERPLACE_AREA             32357 non-null  int64   \n",
      " 69  NAME_SELLER_INDUSTRY         32357 non-null  object  \n",
      " 70  CNT_PAYMENT                  32357 non-null  float64 \n",
      " 71  NAME_YIELD_GROUP             32357 non-null  object  \n",
      " 72  PRODUCT_COMBINATION          32357 non-null  object  \n",
      " 73  INCOME_RANGE                 32357 non-null  category\n",
      " 74  CREDIT_RANGE                 32357 non-null  category\n",
      "dtypes: category(2), float64(22), int64(29), object(22)\n",
      "memory usage: 19.6+ MB\n"
     ]
    }
   ],
   "source": [
    "totaldata.info()"
   ]
  },
  {
   "cell_type": "code",
   "execution_count": 224,
   "metadata": {},
   "outputs": [
    {
     "data": {
      "image/png": "[encoded data removed]",
      "text/plain": [
       "<Figure size 1080x360 with 1 Axes>"
      ]
     },
     "metadata": {
      "needs_background": "light"
     },
     "output_type": "display_data"
    }
   ],
   "source": [
    "# distribution of children count with target\n",
    "# Using lograthmic scale for better visualisation\n",
    "plt.figure(figsize = (15,5))\n",
    "plt.yscale('log')\n",
    "plt.title('Distribution of Children count with Target')\n",
    "sns.countplot(totaldata['CNT_CHILDREN'],hue = totaldata['TARGET'])\n",
    "plt.show()"
   ]
  },
  {
   "cell_type": "markdown",
   "metadata": {},
   "source": [
    "THEREFORE CLIENTS WITH NO CHILDREN ARE OBSERVED TO PAY BACK THE LOANS WITHOUT ANY DIFFICULTIES"
   ]
  },
  {
   "cell_type": "code",
   "execution_count": 225,
   "metadata": {},
   "outputs": [
    {
     "data": {
      "image/png": "[encoded data removed]",
      "text/plain": [
       "<Figure size 1080x360 with 1 Axes>"
      ]
     },
     "metadata": {
      "needs_background": "light"
     },
     "output_type": "display_data"
    }
   ],
   "source": [
    "# distribution of family members count with target\n",
    "# Using lograthmic scale for better visualisation\n",
    "plt.figure(figsize = (15,5))\n",
    "plt.yscale('log')\n",
    "plt.title('Distribution of Family members count with Target')\n",
    "sns.countplot(totaldata['CNT_FAM_MEMBERS'],hue = totaldata['TARGET'])\n",
    "plt.show()"
   ]
  },
  {
   "cell_type": "markdown",
   "metadata": {},
   "source": [
    "IT IS OBSERVED FROM THE PLOT THAT CLIENTS WITH 2 FAMILY MEMBERS ARE MOSTLY OBSERVED TO PAY BACK LOANS WITHOUT ANY DIFFICULTIES"
   ]
  },
  {
   "cell_type": "code",
   "execution_count": 226,
   "metadata": {},
   "outputs": [
    {
     "data": {
      "image/png": "[encoded data removed]",
      "text/plain": [
       "<Figure size 1080x360 with 1 Axes>"
      ]
     },
     "metadata": {
      "needs_background": "light"
     },
     "output_type": "display_data"
    }
   ],
   "source": [
    "# Distirbution of income range with TARGET\n",
    "# Using lograthmic scale for better visualisation\n",
    "plt.figure(figsize = (15,5))\n",
    "plt.xticks(rotation = 90)\n",
    "plt.yscale('log')\n",
    "plt.title('Distirbution of income range with TARGET')\n",
    "sns.countplot(totaldata['INCOME_RANGE'],hue = totaldata['TARGET'],order = totaldata['INCOME_RANGE'].value_counts().index)\n",
    "plt.show()"
   ]
  },
  {
   "cell_type": "markdown",
   "metadata": {},
   "source": [
    "1- FROM THE PLOT ABOVE IT IS OBSERVED THAT MORE NUMBER OF DEFAULTERS HAVE INCOMES IN THE RANGES 20000-225000,125000-150000,\n",
    "100000-125000 HAVE MORE NUMBER OF DEFAULTERS THAN OTHER RANGES\n",
    "\n",
    "2- CLIENTS WHOSE INCOMES IN THE RANGE OF 450000 - 500000 HAVE LESS NO OF DEFAULTERS IT MEANS THEY HAVE LESS CHANCE OF DEFAULTING"
   ]
  },
  {
   "cell_type": "code",
   "execution_count": 227,
   "metadata": {},
   "outputs": [
    {
     "data": {
      "image/png": "[encoded data removed]",
      "text/plain": [
       "<Figure size 1080x360 with 1 Axes>"
      ]
     },
     "metadata": {
      "needs_background": "light"
     },
     "output_type": "display_data"
    }
   ],
   "source": [
    "# Distirbution of credit range with TARGET\n",
    "# Using lograthmic scale for better visualisation\n",
    "plt.figure(figsize = (15,5))\n",
    "plt.xticks(rotation = 90)\n",
    "plt.yscale('log')\n",
    "plt.title('Distirbution of credit range with TARGET')\n",
    "sns.countplot(totaldata['CREDIT_RANGE'],hue = totaldata['TARGET'],order = totaldata['CREDIT_RANGE'].value_counts().index)\n",
    "plt.show()"
   ]
  },
  {
   "cell_type": "markdown",
   "metadata": {},
   "source": [
    "1- CLIENTS WITH CREDIT AMOUNT 400000-450000 DEFAULTED MORE THAN OTHER CREDIT RANGES\n",
    "\n",
    "2- CLIENTS WITH CREDIT AMOUNT 950000 AND ABOVE,250000-30000  DO NOT HAVE PAYMENT DIFFICULTIES "
   ]
  },
  {
   "cell_type": "code",
   "execution_count": 228,
   "metadata": {},
   "outputs": [
    {
     "data": {
      "image/png": "[encoded data removed]",
      "text/plain": [
       "<Figure size 864x360 with 1 Axes>"
      ]
     },
     "metadata": {
      "needs_background": "light"
     },
     "output_type": "display_data"
    }
   ],
   "source": [
    "# Distribution of Housing type with target\n",
    "# Using lograthmic scale for better visualisation\n",
    "plt.figure(figsize = (12,5))\n",
    "plt.yscale('log')\n",
    "plt.title('Distribution of Housing type with target')\n",
    "sns.countplot(totaldata['NAME_HOUSING_TYPE'],hue = totaldata['TARGET'])\n",
    "plt.show()"
   ]
  },
  {
   "cell_type": "markdown",
   "metadata": {},
   "source": [
    "1- MORE DEFAULTERS HAVE HOUSING TYPE AS HOUSE OR APARTMENT\n",
    "\n",
    "2- CLIENTS WHO LIVE WITH PARENTS AND LIVE IN MUNICIPAL APARTMENTS HAVE LESS DEFAULTERS "
   ]
  }
 ],
 "metadata": {
  "kernelspec": {
   "display_name": "Python 3",
   "language": "python",
   "name": "python3"
  },
  "language_info": {
   "codemirror_mode": {
    "name": "ipython",
    "version": 3
   },
   "file_extension": ".py",
   "mimetype": "text/x-python",
   "name": "python",
   "nbconvert_exporter": "python",
   "pygments_lexer": "ipython3",
   "version": "3.7.6"
  }
 },
 "nbformat": 4,
 "nbformat_minor": 4
}
